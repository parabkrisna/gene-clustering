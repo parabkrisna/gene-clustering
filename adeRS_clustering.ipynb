{
  "cells": [
    {
      "cell_type": "markdown",
      "metadata": {
        "id": "view-in-github",
        "colab_type": "text"
      },
      "source": [
        "<a href=\"https://colab.research.google.com/github/parabkrisna/gene-clustering/blob/main/adeRS_clustering.ipynb\" target=\"_parent\"><img src=\"https://colab.research.google.com/assets/colab-badge.svg\" alt=\"Open In Colab\"/></a>"
      ]
    },
    {
      "cell_type": "code",
      "execution_count": null,
      "metadata": {
        "id": "Swh-0L2Prcwe"
      },
      "outputs": [],
      "source": [
        "import pandas as pd\n",
        "import numpy as np"
      ]
    },
    {
      "cell_type": "code",
      "execution_count": null,
      "metadata": {
        "id": "1LamsZDFrpo-"
      },
      "outputs": [],
      "source": [
        "#use .csv files from Specialty genes tab in BVBRC genome group view for gene of choice.\n",
        "\n",
        "file1=pd.read_csv(\"/content/adeA.csv\")\n",
        "file2=pd.read_csv(\"/content/adeB.csv\")\n",
        "file3=pd.read_csv(\"/content/adeC.csv\")\n",
        "file7=pd.read_csv(\"/content/adeR.csv\")\n",
        "file8=pd.read_csv(\"/content/adeS.csv\")"
      ]
    },
    {
      "cell_type": "code",
      "execution_count": null,
      "metadata": {
        "id": "o9OmGCRWsImr"
      },
      "outputs": [],
      "source": [
        "file1"
      ]
    },
    {
      "cell_type": "code",
      "execution_count": null,
      "metadata": {
        "id": "S1gyNXh0sXm7"
      },
      "outputs": [],
      "source": [
        "sel_col1=file1.iloc[:,4:5]\n",
        "sel_col2=file2.iloc[:,4:5]\n",
        "sel_col3=file3.iloc[:,4:5]\n",
        "sel_col7=file7.iloc[:,4:5]\n",
        "sel_col8=file8.iloc[:,4:5]"
      ]
    },
    {
      "cell_type": "code",
      "execution_count": null,
      "metadata": {
        "colab": {
          "base_uri": "https://localhost:8080/",
          "height": 424
        },
        "id": "C_7m7qwNxaug",
        "outputId": "399c34b5-91a8-4031-9eea-dd194de587b5"
      },
      "outputs": [
        {
          "output_type": "execute_result",
          "data": {
            "text/plain": [
              "                     BRC ID\n",
              "0    fig|470.13213.peg.1424\n",
              "1    fig|470.13215.peg.1880\n",
              "2    fig|470.11010.peg.2025\n",
              "3    fig|470.11014.peg.1845\n",
              "4    fig|470.10862.peg.1160\n",
              "..                      ...\n",
              "616  fig|470.13186.peg.2529\n",
              "617  fig|470.10997.peg.2038\n",
              "618  fig|470.13187.peg.1227\n",
              "619  fig|470.11004.peg.1843\n",
              "620  fig|470.10877.peg.1142\n",
              "\n",
              "[621 rows x 1 columns]"
            ],
            "text/html": [
              "\n",
              "  <div id=\"df-ad3735c6-63b0-4b2d-aa0e-538088807385\">\n",
              "    <div class=\"colab-df-container\">\n",
              "      <div>\n",
              "<style scoped>\n",
              "    .dataframe tbody tr th:only-of-type {\n",
              "        vertical-align: middle;\n",
              "    }\n",
              "\n",
              "    .dataframe tbody tr th {\n",
              "        vertical-align: top;\n",
              "    }\n",
              "\n",
              "    .dataframe thead th {\n",
              "        text-align: right;\n",
              "    }\n",
              "</style>\n",
              "<table border=\"1\" class=\"dataframe\">\n",
              "  <thead>\n",
              "    <tr style=\"text-align: right;\">\n",
              "      <th></th>\n",
              "      <th>BRC ID</th>\n",
              "    </tr>\n",
              "  </thead>\n",
              "  <tbody>\n",
              "    <tr>\n",
              "      <th>0</th>\n",
              "      <td>fig|470.13213.peg.1424</td>\n",
              "    </tr>\n",
              "    <tr>\n",
              "      <th>1</th>\n",
              "      <td>fig|470.13215.peg.1880</td>\n",
              "    </tr>\n",
              "    <tr>\n",
              "      <th>2</th>\n",
              "      <td>fig|470.11010.peg.2025</td>\n",
              "    </tr>\n",
              "    <tr>\n",
              "      <th>3</th>\n",
              "      <td>fig|470.11014.peg.1845</td>\n",
              "    </tr>\n",
              "    <tr>\n",
              "      <th>4</th>\n",
              "      <td>fig|470.10862.peg.1160</td>\n",
              "    </tr>\n",
              "    <tr>\n",
              "      <th>...</th>\n",
              "      <td>...</td>\n",
              "    </tr>\n",
              "    <tr>\n",
              "      <th>616</th>\n",
              "      <td>fig|470.13186.peg.2529</td>\n",
              "    </tr>\n",
              "    <tr>\n",
              "      <th>617</th>\n",
              "      <td>fig|470.10997.peg.2038</td>\n",
              "    </tr>\n",
              "    <tr>\n",
              "      <th>618</th>\n",
              "      <td>fig|470.13187.peg.1227</td>\n",
              "    </tr>\n",
              "    <tr>\n",
              "      <th>619</th>\n",
              "      <td>fig|470.11004.peg.1843</td>\n",
              "    </tr>\n",
              "    <tr>\n",
              "      <th>620</th>\n",
              "      <td>fig|470.10877.peg.1142</td>\n",
              "    </tr>\n",
              "  </tbody>\n",
              "</table>\n",
              "<p>621 rows × 1 columns</p>\n",
              "</div>\n",
              "      <button class=\"colab-df-convert\" onclick=\"convertToInteractive('df-ad3735c6-63b0-4b2d-aa0e-538088807385')\"\n",
              "              title=\"Convert this dataframe to an interactive table.\"\n",
              "              style=\"display:none;\">\n",
              "        \n",
              "  <svg xmlns=\"http://www.w3.org/2000/svg\" height=\"24px\"viewBox=\"0 0 24 24\"\n",
              "       width=\"24px\">\n",
              "    <path d=\"M0 0h24v24H0V0z\" fill=\"none\"/>\n",
              "    <path d=\"M18.56 5.44l.94 2.06.94-2.06 2.06-.94-2.06-.94-.94-2.06-.94 2.06-2.06.94zm-11 1L8.5 8.5l.94-2.06 2.06-.94-2.06-.94L8.5 2.5l-.94 2.06-2.06.94zm10 10l.94 2.06.94-2.06 2.06-.94-2.06-.94-.94-2.06-.94 2.06-2.06.94z\"/><path d=\"M17.41 7.96l-1.37-1.37c-.4-.4-.92-.59-1.43-.59-.52 0-1.04.2-1.43.59L10.3 9.45l-7.72 7.72c-.78.78-.78 2.05 0 2.83L4 21.41c.39.39.9.59 1.41.59.51 0 1.02-.2 1.41-.59l7.78-7.78 2.81-2.81c.8-.78.8-2.07 0-2.86zM5.41 20L4 18.59l7.72-7.72 1.47 1.35L5.41 20z\"/>\n",
              "  </svg>\n",
              "      </button>\n",
              "      \n",
              "  <style>\n",
              "    .colab-df-container {\n",
              "      display:flex;\n",
              "      flex-wrap:wrap;\n",
              "      gap: 12px;\n",
              "    }\n",
              "\n",
              "    .colab-df-convert {\n",
              "      background-color: #E8F0FE;\n",
              "      border: none;\n",
              "      border-radius: 50%;\n",
              "      cursor: pointer;\n",
              "      display: none;\n",
              "      fill: #1967D2;\n",
              "      height: 32px;\n",
              "      padding: 0 0 0 0;\n",
              "      width: 32px;\n",
              "    }\n",
              "\n",
              "    .colab-df-convert:hover {\n",
              "      background-color: #E2EBFA;\n",
              "      box-shadow: 0px 1px 2px rgba(60, 64, 67, 0.3), 0px 1px 3px 1px rgba(60, 64, 67, 0.15);\n",
              "      fill: #174EA6;\n",
              "    }\n",
              "\n",
              "    [theme=dark] .colab-df-convert {\n",
              "      background-color: #3B4455;\n",
              "      fill: #D2E3FC;\n",
              "    }\n",
              "\n",
              "    [theme=dark] .colab-df-convert:hover {\n",
              "      background-color: #434B5C;\n",
              "      box-shadow: 0px 1px 3px 1px rgba(0, 0, 0, 0.15);\n",
              "      filter: drop-shadow(0px 1px 2px rgba(0, 0, 0, 0.3));\n",
              "      fill: #FFFFFF;\n",
              "    }\n",
              "  </style>\n",
              "\n",
              "      <script>\n",
              "        const buttonEl =\n",
              "          document.querySelector('#df-ad3735c6-63b0-4b2d-aa0e-538088807385 button.colab-df-convert');\n",
              "        buttonEl.style.display =\n",
              "          google.colab.kernel.accessAllowed ? 'block' : 'none';\n",
              "\n",
              "        async function convertToInteractive(key) {\n",
              "          const element = document.querySelector('#df-ad3735c6-63b0-4b2d-aa0e-538088807385');\n",
              "          const dataTable =\n",
              "            await google.colab.kernel.invokeFunction('convertToInteractive',\n",
              "                                                     [key], {});\n",
              "          if (!dataTable) return;\n",
              "\n",
              "          const docLinkHtml = 'Like what you see? Visit the ' +\n",
              "            '<a target=\"_blank\" href=https://colab.research.google.com/notebooks/data_table.ipynb>data table notebook</a>'\n",
              "            + ' to learn more about interactive tables.';\n",
              "          element.innerHTML = '';\n",
              "          dataTable['output_type'] = 'display_data';\n",
              "          await google.colab.output.renderOutput(dataTable, element);\n",
              "          const docLink = document.createElement('div');\n",
              "          docLink.innerHTML = docLinkHtml;\n",
              "          element.appendChild(docLink);\n",
              "        }\n",
              "      </script>\n",
              "    </div>\n",
              "  </div>\n",
              "  "
            ]
          },
          "metadata": {},
          "execution_count": 75
        }
      ],
      "source": [
        "sel_col1=file1.iloc[:,4:5]\n",
        "sel_col1"
      ]
    },
    {
      "cell_type": "code",
      "execution_count": null,
      "metadata": {
        "id": "_9SnijYlxmLp"
      },
      "outputs": [],
      "source": [
        "file1= pd.concat([sel_col1, sel_col2,sel_col3,sel_col7,sel_col8], axis=1)"
      ]
    },
    {
      "cell_type": "code",
      "execution_count": null,
      "metadata": {
        "colab": {
          "base_uri": "https://localhost:8080/",
          "height": 424
        },
        "id": "WzDNkEE4xtq9",
        "outputId": "96241007-53f7-41ee-d048-d16c53ca845b"
      },
      "outputs": [
        {
          "output_type": "execute_result",
          "data": {
            "text/plain": [
              "                     BRC ID                  BRC ID                  BRC ID  \\\n",
              "0    fig|470.13213.peg.1424  fig|470.11018.peg.2008  fig|470.13223.peg.1873   \n",
              "1    fig|470.13215.peg.1880  fig|470.10884.peg.1194  fig|470.10950.peg.1067   \n",
              "2    fig|470.11010.peg.2025  fig|470.13179.peg.1904  fig|470.10888.peg.2495   \n",
              "3    fig|470.11014.peg.1845  fig|470.11017.peg.2012  fig|470.13208.peg.1835   \n",
              "4    fig|470.10862.peg.1160  fig|470.10890.peg.2260  fig|470.10998.peg.1640   \n",
              "..                      ...                     ...                     ...   \n",
              "621                     NaN  fig|470.11001.peg.1845                     NaN   \n",
              "622                     NaN  fig|470.13191.peg.1932                     NaN   \n",
              "623                     NaN  fig|470.10886.peg.1324                     NaN   \n",
              "624                     NaN  fig|470.11013.peg.2049                     NaN   \n",
              "625                     NaN  fig|470.11052.peg.1971                     NaN   \n",
              "\n",
              "                     BRC ID                  BRC ID  \n",
              "0    fig|470.10915.peg.1836   fig|470.13209.peg.337  \n",
              "1    fig|470.10895.peg.1878  fig|470.10877.peg.1140  \n",
              "2    fig|470.13204.peg.2138  fig|470.10906.peg.1542  \n",
              "3    fig|470.11490.peg.1883  fig|470.13186.peg.2527  \n",
              "4    fig|470.13169.peg.3858  fig|470.13237.peg.1901  \n",
              "..                      ...                     ...  \n",
              "621                     NaN                     NaN  \n",
              "622                     NaN                     NaN  \n",
              "623                     NaN                     NaN  \n",
              "624                     NaN                     NaN  \n",
              "625                     NaN                     NaN  \n",
              "\n",
              "[626 rows x 5 columns]"
            ],
            "text/html": [
              "\n",
              "  <div id=\"df-f58e7914-c646-4501-85a1-a745c5f63215\">\n",
              "    <div class=\"colab-df-container\">\n",
              "      <div>\n",
              "<style scoped>\n",
              "    .dataframe tbody tr th:only-of-type {\n",
              "        vertical-align: middle;\n",
              "    }\n",
              "\n",
              "    .dataframe tbody tr th {\n",
              "        vertical-align: top;\n",
              "    }\n",
              "\n",
              "    .dataframe thead th {\n",
              "        text-align: right;\n",
              "    }\n",
              "</style>\n",
              "<table border=\"1\" class=\"dataframe\">\n",
              "  <thead>\n",
              "    <tr style=\"text-align: right;\">\n",
              "      <th></th>\n",
              "      <th>BRC ID</th>\n",
              "      <th>BRC ID</th>\n",
              "      <th>BRC ID</th>\n",
              "      <th>BRC ID</th>\n",
              "      <th>BRC ID</th>\n",
              "    </tr>\n",
              "  </thead>\n",
              "  <tbody>\n",
              "    <tr>\n",
              "      <th>0</th>\n",
              "      <td>fig|470.13213.peg.1424</td>\n",
              "      <td>fig|470.11018.peg.2008</td>\n",
              "      <td>fig|470.13223.peg.1873</td>\n",
              "      <td>fig|470.10915.peg.1836</td>\n",
              "      <td>fig|470.13209.peg.337</td>\n",
              "    </tr>\n",
              "    <tr>\n",
              "      <th>1</th>\n",
              "      <td>fig|470.13215.peg.1880</td>\n",
              "      <td>fig|470.10884.peg.1194</td>\n",
              "      <td>fig|470.10950.peg.1067</td>\n",
              "      <td>fig|470.10895.peg.1878</td>\n",
              "      <td>fig|470.10877.peg.1140</td>\n",
              "    </tr>\n",
              "    <tr>\n",
              "      <th>2</th>\n",
              "      <td>fig|470.11010.peg.2025</td>\n",
              "      <td>fig|470.13179.peg.1904</td>\n",
              "      <td>fig|470.10888.peg.2495</td>\n",
              "      <td>fig|470.13204.peg.2138</td>\n",
              "      <td>fig|470.10906.peg.1542</td>\n",
              "    </tr>\n",
              "    <tr>\n",
              "      <th>3</th>\n",
              "      <td>fig|470.11014.peg.1845</td>\n",
              "      <td>fig|470.11017.peg.2012</td>\n",
              "      <td>fig|470.13208.peg.1835</td>\n",
              "      <td>fig|470.11490.peg.1883</td>\n",
              "      <td>fig|470.13186.peg.2527</td>\n",
              "    </tr>\n",
              "    <tr>\n",
              "      <th>4</th>\n",
              "      <td>fig|470.10862.peg.1160</td>\n",
              "      <td>fig|470.10890.peg.2260</td>\n",
              "      <td>fig|470.10998.peg.1640</td>\n",
              "      <td>fig|470.13169.peg.3858</td>\n",
              "      <td>fig|470.13237.peg.1901</td>\n",
              "    </tr>\n",
              "    <tr>\n",
              "      <th>...</th>\n",
              "      <td>...</td>\n",
              "      <td>...</td>\n",
              "      <td>...</td>\n",
              "      <td>...</td>\n",
              "      <td>...</td>\n",
              "    </tr>\n",
              "    <tr>\n",
              "      <th>621</th>\n",
              "      <td>NaN</td>\n",
              "      <td>fig|470.11001.peg.1845</td>\n",
              "      <td>NaN</td>\n",
              "      <td>NaN</td>\n",
              "      <td>NaN</td>\n",
              "    </tr>\n",
              "    <tr>\n",
              "      <th>622</th>\n",
              "      <td>NaN</td>\n",
              "      <td>fig|470.13191.peg.1932</td>\n",
              "      <td>NaN</td>\n",
              "      <td>NaN</td>\n",
              "      <td>NaN</td>\n",
              "    </tr>\n",
              "    <tr>\n",
              "      <th>623</th>\n",
              "      <td>NaN</td>\n",
              "      <td>fig|470.10886.peg.1324</td>\n",
              "      <td>NaN</td>\n",
              "      <td>NaN</td>\n",
              "      <td>NaN</td>\n",
              "    </tr>\n",
              "    <tr>\n",
              "      <th>624</th>\n",
              "      <td>NaN</td>\n",
              "      <td>fig|470.11013.peg.2049</td>\n",
              "      <td>NaN</td>\n",
              "      <td>NaN</td>\n",
              "      <td>NaN</td>\n",
              "    </tr>\n",
              "    <tr>\n",
              "      <th>625</th>\n",
              "      <td>NaN</td>\n",
              "      <td>fig|470.11052.peg.1971</td>\n",
              "      <td>NaN</td>\n",
              "      <td>NaN</td>\n",
              "      <td>NaN</td>\n",
              "    </tr>\n",
              "  </tbody>\n",
              "</table>\n",
              "<p>626 rows × 5 columns</p>\n",
              "</div>\n",
              "      <button class=\"colab-df-convert\" onclick=\"convertToInteractive('df-f58e7914-c646-4501-85a1-a745c5f63215')\"\n",
              "              title=\"Convert this dataframe to an interactive table.\"\n",
              "              style=\"display:none;\">\n",
              "        \n",
              "  <svg xmlns=\"http://www.w3.org/2000/svg\" height=\"24px\"viewBox=\"0 0 24 24\"\n",
              "       width=\"24px\">\n",
              "    <path d=\"M0 0h24v24H0V0z\" fill=\"none\"/>\n",
              "    <path d=\"M18.56 5.44l.94 2.06.94-2.06 2.06-.94-2.06-.94-.94-2.06-.94 2.06-2.06.94zm-11 1L8.5 8.5l.94-2.06 2.06-.94-2.06-.94L8.5 2.5l-.94 2.06-2.06.94zm10 10l.94 2.06.94-2.06 2.06-.94-2.06-.94-.94-2.06-.94 2.06-2.06.94z\"/><path d=\"M17.41 7.96l-1.37-1.37c-.4-.4-.92-.59-1.43-.59-.52 0-1.04.2-1.43.59L10.3 9.45l-7.72 7.72c-.78.78-.78 2.05 0 2.83L4 21.41c.39.39.9.59 1.41.59.51 0 1.02-.2 1.41-.59l7.78-7.78 2.81-2.81c.8-.78.8-2.07 0-2.86zM5.41 20L4 18.59l7.72-7.72 1.47 1.35L5.41 20z\"/>\n",
              "  </svg>\n",
              "      </button>\n",
              "      \n",
              "  <style>\n",
              "    .colab-df-container {\n",
              "      display:flex;\n",
              "      flex-wrap:wrap;\n",
              "      gap: 12px;\n",
              "    }\n",
              "\n",
              "    .colab-df-convert {\n",
              "      background-color: #E8F0FE;\n",
              "      border: none;\n",
              "      border-radius: 50%;\n",
              "      cursor: pointer;\n",
              "      display: none;\n",
              "      fill: #1967D2;\n",
              "      height: 32px;\n",
              "      padding: 0 0 0 0;\n",
              "      width: 32px;\n",
              "    }\n",
              "\n",
              "    .colab-df-convert:hover {\n",
              "      background-color: #E2EBFA;\n",
              "      box-shadow: 0px 1px 2px rgba(60, 64, 67, 0.3), 0px 1px 3px 1px rgba(60, 64, 67, 0.15);\n",
              "      fill: #174EA6;\n",
              "    }\n",
              "\n",
              "    [theme=dark] .colab-df-convert {\n",
              "      background-color: #3B4455;\n",
              "      fill: #D2E3FC;\n",
              "    }\n",
              "\n",
              "    [theme=dark] .colab-df-convert:hover {\n",
              "      background-color: #434B5C;\n",
              "      box-shadow: 0px 1px 3px 1px rgba(0, 0, 0, 0.15);\n",
              "      filter: drop-shadow(0px 1px 2px rgba(0, 0, 0, 0.3));\n",
              "      fill: #FFFFFF;\n",
              "    }\n",
              "  </style>\n",
              "\n",
              "      <script>\n",
              "        const buttonEl =\n",
              "          document.querySelector('#df-f58e7914-c646-4501-85a1-a745c5f63215 button.colab-df-convert');\n",
              "        buttonEl.style.display =\n",
              "          google.colab.kernel.accessAllowed ? 'block' : 'none';\n",
              "\n",
              "        async function convertToInteractive(key) {\n",
              "          const element = document.querySelector('#df-f58e7914-c646-4501-85a1-a745c5f63215');\n",
              "          const dataTable =\n",
              "            await google.colab.kernel.invokeFunction('convertToInteractive',\n",
              "                                                     [key], {});\n",
              "          if (!dataTable) return;\n",
              "\n",
              "          const docLinkHtml = 'Like what you see? Visit the ' +\n",
              "            '<a target=\"_blank\" href=https://colab.research.google.com/notebooks/data_table.ipynb>data table notebook</a>'\n",
              "            + ' to learn more about interactive tables.';\n",
              "          element.innerHTML = '';\n",
              "          dataTable['output_type'] = 'display_data';\n",
              "          await google.colab.output.renderOutput(dataTable, element);\n",
              "          const docLink = document.createElement('div');\n",
              "          docLink.innerHTML = docLinkHtml;\n",
              "          element.appendChild(docLink);\n",
              "        }\n",
              "      </script>\n",
              "    </div>\n",
              "  </div>\n",
              "  "
            ]
          },
          "metadata": {},
          "execution_count": 77
        }
      ],
      "source": [
        "file1"
      ]
    },
    {
      "cell_type": "code",
      "execution_count": null,
      "metadata": {
        "colab": {
          "base_uri": "https://localhost:8080/"
        },
        "id": "USzjIhAbyJWt",
        "outputId": "1e3e98e0-8f39-4173-df68-5d0625caa029"
      },
      "outputs": [
        {
          "output_type": "execute_result",
          "data": {
            "text/plain": [
              "Index(['BRC ID', 'BRC ID', 'BRC ID', 'BRC ID', 'BRC ID'], dtype='object')"
            ]
          },
          "metadata": {},
          "execution_count": 78
        }
      ],
      "source": [
        "file1.columns"
      ]
    },
    {
      "cell_type": "code",
      "execution_count": null,
      "metadata": {
        "id": "VGHkkxG5zm-X"
      },
      "outputs": [],
      "source": [
        "file1.columns=['adeA','adeB','adeC','adeR','adeS']"
      ]
    },
    {
      "cell_type": "code",
      "execution_count": null,
      "metadata": {
        "colab": {
          "base_uri": "https://localhost:8080/",
          "height": 424
        },
        "id": "ym-fjOMD0dQf",
        "outputId": "76ac2fae-3f08-46fe-9b77-7e7f941aef51"
      },
      "outputs": [
        {
          "output_type": "execute_result",
          "data": {
            "text/plain": [
              "                       adeA                    adeB                    adeC  \\\n",
              "0    fig|470.13213.peg.1424  fig|470.11018.peg.2008  fig|470.13223.peg.1873   \n",
              "1    fig|470.13215.peg.1880  fig|470.10884.peg.1194  fig|470.10950.peg.1067   \n",
              "2    fig|470.11010.peg.2025  fig|470.13179.peg.1904  fig|470.10888.peg.2495   \n",
              "3    fig|470.11014.peg.1845  fig|470.11017.peg.2012  fig|470.13208.peg.1835   \n",
              "4    fig|470.10862.peg.1160  fig|470.10890.peg.2260  fig|470.10998.peg.1640   \n",
              "..                      ...                     ...                     ...   \n",
              "621                     NaN  fig|470.11001.peg.1845                     NaN   \n",
              "622                     NaN  fig|470.13191.peg.1932                     NaN   \n",
              "623                     NaN  fig|470.10886.peg.1324                     NaN   \n",
              "624                     NaN  fig|470.11013.peg.2049                     NaN   \n",
              "625                     NaN  fig|470.11052.peg.1971                     NaN   \n",
              "\n",
              "                       adeR                    adeS  \n",
              "0    fig|470.10915.peg.1836   fig|470.13209.peg.337  \n",
              "1    fig|470.10895.peg.1878  fig|470.10877.peg.1140  \n",
              "2    fig|470.13204.peg.2138  fig|470.10906.peg.1542  \n",
              "3    fig|470.11490.peg.1883  fig|470.13186.peg.2527  \n",
              "4    fig|470.13169.peg.3858  fig|470.13237.peg.1901  \n",
              "..                      ...                     ...  \n",
              "621                     NaN                     NaN  \n",
              "622                     NaN                     NaN  \n",
              "623                     NaN                     NaN  \n",
              "624                     NaN                     NaN  \n",
              "625                     NaN                     NaN  \n",
              "\n",
              "[626 rows x 5 columns]"
            ],
            "text/html": [
              "\n",
              "  <div id=\"df-fb7d6203-0e6a-4172-b56a-9ee0695f0f3c\">\n",
              "    <div class=\"colab-df-container\">\n",
              "      <div>\n",
              "<style scoped>\n",
              "    .dataframe tbody tr th:only-of-type {\n",
              "        vertical-align: middle;\n",
              "    }\n",
              "\n",
              "    .dataframe tbody tr th {\n",
              "        vertical-align: top;\n",
              "    }\n",
              "\n",
              "    .dataframe thead th {\n",
              "        text-align: right;\n",
              "    }\n",
              "</style>\n",
              "<table border=\"1\" class=\"dataframe\">\n",
              "  <thead>\n",
              "    <tr style=\"text-align: right;\">\n",
              "      <th></th>\n",
              "      <th>adeA</th>\n",
              "      <th>adeB</th>\n",
              "      <th>adeC</th>\n",
              "      <th>adeR</th>\n",
              "      <th>adeS</th>\n",
              "    </tr>\n",
              "  </thead>\n",
              "  <tbody>\n",
              "    <tr>\n",
              "      <th>0</th>\n",
              "      <td>fig|470.13213.peg.1424</td>\n",
              "      <td>fig|470.11018.peg.2008</td>\n",
              "      <td>fig|470.13223.peg.1873</td>\n",
              "      <td>fig|470.10915.peg.1836</td>\n",
              "      <td>fig|470.13209.peg.337</td>\n",
              "    </tr>\n",
              "    <tr>\n",
              "      <th>1</th>\n",
              "      <td>fig|470.13215.peg.1880</td>\n",
              "      <td>fig|470.10884.peg.1194</td>\n",
              "      <td>fig|470.10950.peg.1067</td>\n",
              "      <td>fig|470.10895.peg.1878</td>\n",
              "      <td>fig|470.10877.peg.1140</td>\n",
              "    </tr>\n",
              "    <tr>\n",
              "      <th>2</th>\n",
              "      <td>fig|470.11010.peg.2025</td>\n",
              "      <td>fig|470.13179.peg.1904</td>\n",
              "      <td>fig|470.10888.peg.2495</td>\n",
              "      <td>fig|470.13204.peg.2138</td>\n",
              "      <td>fig|470.10906.peg.1542</td>\n",
              "    </tr>\n",
              "    <tr>\n",
              "      <th>3</th>\n",
              "      <td>fig|470.11014.peg.1845</td>\n",
              "      <td>fig|470.11017.peg.2012</td>\n",
              "      <td>fig|470.13208.peg.1835</td>\n",
              "      <td>fig|470.11490.peg.1883</td>\n",
              "      <td>fig|470.13186.peg.2527</td>\n",
              "    </tr>\n",
              "    <tr>\n",
              "      <th>4</th>\n",
              "      <td>fig|470.10862.peg.1160</td>\n",
              "      <td>fig|470.10890.peg.2260</td>\n",
              "      <td>fig|470.10998.peg.1640</td>\n",
              "      <td>fig|470.13169.peg.3858</td>\n",
              "      <td>fig|470.13237.peg.1901</td>\n",
              "    </tr>\n",
              "    <tr>\n",
              "      <th>...</th>\n",
              "      <td>...</td>\n",
              "      <td>...</td>\n",
              "      <td>...</td>\n",
              "      <td>...</td>\n",
              "      <td>...</td>\n",
              "    </tr>\n",
              "    <tr>\n",
              "      <th>621</th>\n",
              "      <td>NaN</td>\n",
              "      <td>fig|470.11001.peg.1845</td>\n",
              "      <td>NaN</td>\n",
              "      <td>NaN</td>\n",
              "      <td>NaN</td>\n",
              "    </tr>\n",
              "    <tr>\n",
              "      <th>622</th>\n",
              "      <td>NaN</td>\n",
              "      <td>fig|470.13191.peg.1932</td>\n",
              "      <td>NaN</td>\n",
              "      <td>NaN</td>\n",
              "      <td>NaN</td>\n",
              "    </tr>\n",
              "    <tr>\n",
              "      <th>623</th>\n",
              "      <td>NaN</td>\n",
              "      <td>fig|470.10886.peg.1324</td>\n",
              "      <td>NaN</td>\n",
              "      <td>NaN</td>\n",
              "      <td>NaN</td>\n",
              "    </tr>\n",
              "    <tr>\n",
              "      <th>624</th>\n",
              "      <td>NaN</td>\n",
              "      <td>fig|470.11013.peg.2049</td>\n",
              "      <td>NaN</td>\n",
              "      <td>NaN</td>\n",
              "      <td>NaN</td>\n",
              "    </tr>\n",
              "    <tr>\n",
              "      <th>625</th>\n",
              "      <td>NaN</td>\n",
              "      <td>fig|470.11052.peg.1971</td>\n",
              "      <td>NaN</td>\n",
              "      <td>NaN</td>\n",
              "      <td>NaN</td>\n",
              "    </tr>\n",
              "  </tbody>\n",
              "</table>\n",
              "<p>626 rows × 5 columns</p>\n",
              "</div>\n",
              "      <button class=\"colab-df-convert\" onclick=\"convertToInteractive('df-fb7d6203-0e6a-4172-b56a-9ee0695f0f3c')\"\n",
              "              title=\"Convert this dataframe to an interactive table.\"\n",
              "              style=\"display:none;\">\n",
              "        \n",
              "  <svg xmlns=\"http://www.w3.org/2000/svg\" height=\"24px\"viewBox=\"0 0 24 24\"\n",
              "       width=\"24px\">\n",
              "    <path d=\"M0 0h24v24H0V0z\" fill=\"none\"/>\n",
              "    <path d=\"M18.56 5.44l.94 2.06.94-2.06 2.06-.94-2.06-.94-.94-2.06-.94 2.06-2.06.94zm-11 1L8.5 8.5l.94-2.06 2.06-.94-2.06-.94L8.5 2.5l-.94 2.06-2.06.94zm10 10l.94 2.06.94-2.06 2.06-.94-2.06-.94-.94-2.06-.94 2.06-2.06.94z\"/><path d=\"M17.41 7.96l-1.37-1.37c-.4-.4-.92-.59-1.43-.59-.52 0-1.04.2-1.43.59L10.3 9.45l-7.72 7.72c-.78.78-.78 2.05 0 2.83L4 21.41c.39.39.9.59 1.41.59.51 0 1.02-.2 1.41-.59l7.78-7.78 2.81-2.81c.8-.78.8-2.07 0-2.86zM5.41 20L4 18.59l7.72-7.72 1.47 1.35L5.41 20z\"/>\n",
              "  </svg>\n",
              "      </button>\n",
              "      \n",
              "  <style>\n",
              "    .colab-df-container {\n",
              "      display:flex;\n",
              "      flex-wrap:wrap;\n",
              "      gap: 12px;\n",
              "    }\n",
              "\n",
              "    .colab-df-convert {\n",
              "      background-color: #E8F0FE;\n",
              "      border: none;\n",
              "      border-radius: 50%;\n",
              "      cursor: pointer;\n",
              "      display: none;\n",
              "      fill: #1967D2;\n",
              "      height: 32px;\n",
              "      padding: 0 0 0 0;\n",
              "      width: 32px;\n",
              "    }\n",
              "\n",
              "    .colab-df-convert:hover {\n",
              "      background-color: #E2EBFA;\n",
              "      box-shadow: 0px 1px 2px rgba(60, 64, 67, 0.3), 0px 1px 3px 1px rgba(60, 64, 67, 0.15);\n",
              "      fill: #174EA6;\n",
              "    }\n",
              "\n",
              "    [theme=dark] .colab-df-convert {\n",
              "      background-color: #3B4455;\n",
              "      fill: #D2E3FC;\n",
              "    }\n",
              "\n",
              "    [theme=dark] .colab-df-convert:hover {\n",
              "      background-color: #434B5C;\n",
              "      box-shadow: 0px 1px 3px 1px rgba(0, 0, 0, 0.15);\n",
              "      filter: drop-shadow(0px 1px 2px rgba(0, 0, 0, 0.3));\n",
              "      fill: #FFFFFF;\n",
              "    }\n",
              "  </style>\n",
              "\n",
              "      <script>\n",
              "        const buttonEl =\n",
              "          document.querySelector('#df-fb7d6203-0e6a-4172-b56a-9ee0695f0f3c button.colab-df-convert');\n",
              "        buttonEl.style.display =\n",
              "          google.colab.kernel.accessAllowed ? 'block' : 'none';\n",
              "\n",
              "        async function convertToInteractive(key) {\n",
              "          const element = document.querySelector('#df-fb7d6203-0e6a-4172-b56a-9ee0695f0f3c');\n",
              "          const dataTable =\n",
              "            await google.colab.kernel.invokeFunction('convertToInteractive',\n",
              "                                                     [key], {});\n",
              "          if (!dataTable) return;\n",
              "\n",
              "          const docLinkHtml = 'Like what you see? Visit the ' +\n",
              "            '<a target=\"_blank\" href=https://colab.research.google.com/notebooks/data_table.ipynb>data table notebook</a>'\n",
              "            + ' to learn more about interactive tables.';\n",
              "          element.innerHTML = '';\n",
              "          dataTable['output_type'] = 'display_data';\n",
              "          await google.colab.output.renderOutput(dataTable, element);\n",
              "          const docLink = document.createElement('div');\n",
              "          docLink.innerHTML = docLinkHtml;\n",
              "          element.appendChild(docLink);\n",
              "        }\n",
              "      </script>\n",
              "    </div>\n",
              "  </div>\n",
              "  "
            ]
          },
          "metadata": {},
          "execution_count": 80
        }
      ],
      "source": [
        "file1"
      ]
    },
    {
      "cell_type": "code",
      "execution_count": null,
      "metadata": {
        "colab": {
          "base_uri": "https://localhost:8080/"
        },
        "id": "mQq-mqwiNIq_",
        "outputId": "d18f8810-0206-4968-d351-33837cccb135"
      },
      "outputs": [
        {
          "output_type": "stream",
          "name": "stdout",
          "text": [
            "          adeA       adeB       adeC       adeR       adeS\n",
            "0    470.13213  470.11018  470.13223  470.10915  470.13209\n",
            "1    470.13215  470.10884  470.10950  470.10895  470.10877\n",
            "2    470.11010  470.13179  470.10888  470.13204  470.10906\n",
            "3    470.11014  470.11017  470.13208  470.11490  470.13186\n",
            "4    470.10862  470.10890  470.10998  470.13169  470.13237\n",
            "..         ...        ...        ...        ...        ...\n",
            "621        NaN  470.11001        NaN        NaN        NaN\n",
            "622        NaN  470.13191        NaN        NaN        NaN\n",
            "623        NaN  470.10886        NaN        NaN        NaN\n",
            "624        NaN  470.11013        NaN        NaN        NaN\n",
            "625        NaN  470.11052        NaN        NaN        NaN\n",
            "\n",
            "[626 rows x 5 columns]\n"
          ]
        },
        {
          "output_type": "stream",
          "name": "stderr",
          "text": [
            "<ipython-input-81-cd9464c52204>:1: FutureWarning: The default value of regex will change from True to False in a future version.\n",
            "  for i in range(0,5): file1[file1.columns[i]]= file1[file1.columns[i]].str.replace(r'^[^|]*\\|\\s*|.peg.*', '')\n"
          ]
        }
      ],
      "source": [
        "for i in range(0,5): file1[file1.columns[i]]= file1[file1.columns[i]].str.replace(r'^[^|]*\\|\\s*|.peg.*', '')\n",
        "print(file1)"
      ]
    },
    {
      "cell_type": "code",
      "execution_count": null,
      "metadata": {
        "id": "IrGSThG3Pauw"
      },
      "outputs": [],
      "source": [
        "#str(file1['adeB'])\n",
        "gene=file1"
      ]
    },
    {
      "cell_type": "code",
      "execution_count": null,
      "metadata": {
        "id": "K0UhLLRO0y9o"
      },
      "outputs": [],
      "source": [
        "file1.to_csv('gene_file',sep=',')"
      ]
    },
    {
      "cell_type": "code",
      "execution_count": null,
      "metadata": {
        "colab": {
          "base_uri": "https://localhost:8080/"
        },
        "id": "J_CaYQdrhplD",
        "outputId": "4c38fa58-a58d-43e7-e454-9fe2da0fc80a"
      },
      "outputs": [
        {
          "output_type": "stream",
          "name": "stdout",
          "text": [
            "gene  Genome ID  adeA  adeB  adeC  adeR  adeS\n",
            "0     470.10855     1     1     1     1     1\n",
            "1     470.10856     1     1     1     1     1\n",
            "2     470.10857     1     1     1     1     1\n",
            "3     470.10858     1     1     1     1     1\n",
            "4     470.10859     1     1     1     1     1\n",
            "..          ...   ...   ...   ...   ...   ...\n",
            "318    470.9346     0     0     0     0     1\n",
            "319    470.9347     0     1     1     0     1\n",
            "320    470.9348     1     1     1     1     1\n",
            "321    470.9411     1     1     1     1     1\n",
            "322    470.9416     1     1     1     1     1\n",
            "\n",
            "[323 rows x 6 columns]\n"
          ]
        }
      ],
      "source": [
        "melted_df = pd.melt(gene, var_name='gene', value_name='Genome ID')\n",
        "\n",
        "# create the boolean matrix using the pivot_table function\n",
        "boolean_df = pd.pivot_table(melted_df, index='Genome ID', columns='gene', aggfunc=lambda x: 1, fill_value=0)\n",
        "\n",
        "# reset the index of the dataframe to make the 'id' column a regular column\n",
        "boolean_df = boolean_df.reset_index()\n",
        "print(boolean_df)"
      ]
    },
    {
      "cell_type": "code",
      "execution_count": null,
      "metadata": {
        "id": "0qYc0okKNgyF"
      },
      "outputs": [],
      "source": [
        "import numpy as np\n",
        "import matplotlib.pyplot as plt"
      ]
    },
    {
      "cell_type": "code",
      "execution_count": null,
      "metadata": {
        "colab": {
          "base_uri": "https://localhost:8080/"
        },
        "id": "IwXXTof9QF5z",
        "outputId": "225e154b-1bfc-4ad8-e0ed-bbcbac0f9d38"
      },
      "outputs": [
        {
          "output_type": "stream",
          "name": "stdout",
          "text": [
            "gene  Genome ID  adeA  adeB  adeC  adeR  adeS\n",
            "0     470.10855     1     1     1     1     1\n",
            "1     470.10856     1     1     1     1     1\n",
            "2     470.10857     1     1     1     1     1\n",
            "3     470.10858     1     1     1     1     1\n",
            "4     470.10859     1     1     1     1     1\n",
            "..          ...   ...   ...   ...   ...   ...\n",
            "318    470.9346     0     0     0     0     1\n",
            "319    470.9347     0     1     1     0     1\n",
            "320    470.9348     1     1     1     1     1\n",
            "321    470.9411     1     1     1     1     1\n",
            "322    470.9416     1     1     1     1     1\n",
            "\n",
            "[323 rows x 6 columns]\n"
          ]
        }
      ],
      "source": [
        "import pandas as pd\n",
        "import numpy as np\n",
        "df=boolean_df\n",
        "print(df)"
      ]
    },
    {
      "cell_type": "code",
      "execution_count": null,
      "metadata": {
        "id": "LQe51LBIjQan"
      },
      "outputs": [],
      "source": [
        "#df.to_csv('gene_final.csv', sep=',')\n",
        "df.to_excel('gene2.xlsx')"
      ]
    },
    {
      "cell_type": "code",
      "execution_count": null,
      "metadata": {
        "id": "rlteo3u8Ri5d"
      },
      "outputs": [],
      "source": [
        "import sklearn\n",
        "from sklearn import cluster\n",
        "from sklearn.cluster import KMeans"
      ]
    },
    {
      "cell_type": "code",
      "execution_count": null,
      "metadata": {
        "colab": {
          "base_uri": "https://localhost:8080/",
          "height": 681
        },
        "id": "f886SuLi2SeU",
        "outputId": "0f6e8361-0cfa-4091-b7ea-8a11a4087383"
      },
      "outputs": [
        {
          "output_type": "stream",
          "name": "stdout",
          "text": [
            "<class 'pandas.core.frame.DataFrame'>\n",
            "RangeIndex: 323 entries, 0 to 322\n",
            "Data columns (total 6 columns):\n",
            " #   Column     Non-Null Count  Dtype \n",
            "---  ------     --------------  ----- \n",
            " 0   Genome ID  323 non-null    object\n",
            " 1   adeA       323 non-null    int64 \n",
            " 2   adeB       323 non-null    int64 \n",
            " 3   adeC       323 non-null    int64 \n",
            " 4   adeR       323 non-null    int64 \n",
            " 5   adeS       323 non-null    int64 \n",
            "dtypes: int64(5), object(1)\n",
            "memory usage: 15.3+ KB\n"
          ]
        },
        {
          "output_type": "execute_result",
          "data": {
            "text/plain": [
              "gene       adeA  adeB  adeC  adeR  adeS\n",
              "Genome ID                              \n",
              "470.10855     1     1     1     1     1\n",
              "470.10856     1     1     1     1     1\n",
              "470.10857     1     1     1     1     1\n",
              "470.10858     1     1     1     1     1\n",
              "470.10859     1     1     1     1     1\n",
              "...         ...   ...   ...   ...   ...\n",
              "470.9346      0     0     0     0     1\n",
              "470.9347      0     1     1     0     1\n",
              "470.9348      1     1     1     1     1\n",
              "470.9411      1     1     1     1     1\n",
              "470.9416      1     1     1     1     1\n",
              "\n",
              "[323 rows x 5 columns]"
            ],
            "text/html": [
              "\n",
              "  <div id=\"df-055f6dce-2126-4693-8789-e032a11d0fe1\">\n",
              "    <div class=\"colab-df-container\">\n",
              "      <div>\n",
              "<style scoped>\n",
              "    .dataframe tbody tr th:only-of-type {\n",
              "        vertical-align: middle;\n",
              "    }\n",
              "\n",
              "    .dataframe tbody tr th {\n",
              "        vertical-align: top;\n",
              "    }\n",
              "\n",
              "    .dataframe thead th {\n",
              "        text-align: right;\n",
              "    }\n",
              "</style>\n",
              "<table border=\"1\" class=\"dataframe\">\n",
              "  <thead>\n",
              "    <tr style=\"text-align: right;\">\n",
              "      <th>gene</th>\n",
              "      <th>adeA</th>\n",
              "      <th>adeB</th>\n",
              "      <th>adeC</th>\n",
              "      <th>adeR</th>\n",
              "      <th>adeS</th>\n",
              "    </tr>\n",
              "    <tr>\n",
              "      <th>Genome ID</th>\n",
              "      <th></th>\n",
              "      <th></th>\n",
              "      <th></th>\n",
              "      <th></th>\n",
              "      <th></th>\n",
              "    </tr>\n",
              "  </thead>\n",
              "  <tbody>\n",
              "    <tr>\n",
              "      <th>470.10855</th>\n",
              "      <td>1</td>\n",
              "      <td>1</td>\n",
              "      <td>1</td>\n",
              "      <td>1</td>\n",
              "      <td>1</td>\n",
              "    </tr>\n",
              "    <tr>\n",
              "      <th>470.10856</th>\n",
              "      <td>1</td>\n",
              "      <td>1</td>\n",
              "      <td>1</td>\n",
              "      <td>1</td>\n",
              "      <td>1</td>\n",
              "    </tr>\n",
              "    <tr>\n",
              "      <th>470.10857</th>\n",
              "      <td>1</td>\n",
              "      <td>1</td>\n",
              "      <td>1</td>\n",
              "      <td>1</td>\n",
              "      <td>1</td>\n",
              "    </tr>\n",
              "    <tr>\n",
              "      <th>470.10858</th>\n",
              "      <td>1</td>\n",
              "      <td>1</td>\n",
              "      <td>1</td>\n",
              "      <td>1</td>\n",
              "      <td>1</td>\n",
              "    </tr>\n",
              "    <tr>\n",
              "      <th>470.10859</th>\n",
              "      <td>1</td>\n",
              "      <td>1</td>\n",
              "      <td>1</td>\n",
              "      <td>1</td>\n",
              "      <td>1</td>\n",
              "    </tr>\n",
              "    <tr>\n",
              "      <th>...</th>\n",
              "      <td>...</td>\n",
              "      <td>...</td>\n",
              "      <td>...</td>\n",
              "      <td>...</td>\n",
              "      <td>...</td>\n",
              "    </tr>\n",
              "    <tr>\n",
              "      <th>470.9346</th>\n",
              "      <td>0</td>\n",
              "      <td>0</td>\n",
              "      <td>0</td>\n",
              "      <td>0</td>\n",
              "      <td>1</td>\n",
              "    </tr>\n",
              "    <tr>\n",
              "      <th>470.9347</th>\n",
              "      <td>0</td>\n",
              "      <td>1</td>\n",
              "      <td>1</td>\n",
              "      <td>0</td>\n",
              "      <td>1</td>\n",
              "    </tr>\n",
              "    <tr>\n",
              "      <th>470.9348</th>\n",
              "      <td>1</td>\n",
              "      <td>1</td>\n",
              "      <td>1</td>\n",
              "      <td>1</td>\n",
              "      <td>1</td>\n",
              "    </tr>\n",
              "    <tr>\n",
              "      <th>470.9411</th>\n",
              "      <td>1</td>\n",
              "      <td>1</td>\n",
              "      <td>1</td>\n",
              "      <td>1</td>\n",
              "      <td>1</td>\n",
              "    </tr>\n",
              "    <tr>\n",
              "      <th>470.9416</th>\n",
              "      <td>1</td>\n",
              "      <td>1</td>\n",
              "      <td>1</td>\n",
              "      <td>1</td>\n",
              "      <td>1</td>\n",
              "    </tr>\n",
              "  </tbody>\n",
              "</table>\n",
              "<p>323 rows × 5 columns</p>\n",
              "</div>\n",
              "      <button class=\"colab-df-convert\" onclick=\"convertToInteractive('df-055f6dce-2126-4693-8789-e032a11d0fe1')\"\n",
              "              title=\"Convert this dataframe to an interactive table.\"\n",
              "              style=\"display:none;\">\n",
              "        \n",
              "  <svg xmlns=\"http://www.w3.org/2000/svg\" height=\"24px\"viewBox=\"0 0 24 24\"\n",
              "       width=\"24px\">\n",
              "    <path d=\"M0 0h24v24H0V0z\" fill=\"none\"/>\n",
              "    <path d=\"M18.56 5.44l.94 2.06.94-2.06 2.06-.94-2.06-.94-.94-2.06-.94 2.06-2.06.94zm-11 1L8.5 8.5l.94-2.06 2.06-.94-2.06-.94L8.5 2.5l-.94 2.06-2.06.94zm10 10l.94 2.06.94-2.06 2.06-.94-2.06-.94-.94-2.06-.94 2.06-2.06.94z\"/><path d=\"M17.41 7.96l-1.37-1.37c-.4-.4-.92-.59-1.43-.59-.52 0-1.04.2-1.43.59L10.3 9.45l-7.72 7.72c-.78.78-.78 2.05 0 2.83L4 21.41c.39.39.9.59 1.41.59.51 0 1.02-.2 1.41-.59l7.78-7.78 2.81-2.81c.8-.78.8-2.07 0-2.86zM5.41 20L4 18.59l7.72-7.72 1.47 1.35L5.41 20z\"/>\n",
              "  </svg>\n",
              "      </button>\n",
              "      \n",
              "  <style>\n",
              "    .colab-df-container {\n",
              "      display:flex;\n",
              "      flex-wrap:wrap;\n",
              "      gap: 12px;\n",
              "    }\n",
              "\n",
              "    .colab-df-convert {\n",
              "      background-color: #E8F0FE;\n",
              "      border: none;\n",
              "      border-radius: 50%;\n",
              "      cursor: pointer;\n",
              "      display: none;\n",
              "      fill: #1967D2;\n",
              "      height: 32px;\n",
              "      padding: 0 0 0 0;\n",
              "      width: 32px;\n",
              "    }\n",
              "\n",
              "    .colab-df-convert:hover {\n",
              "      background-color: #E2EBFA;\n",
              "      box-shadow: 0px 1px 2px rgba(60, 64, 67, 0.3), 0px 1px 3px 1px rgba(60, 64, 67, 0.15);\n",
              "      fill: #174EA6;\n",
              "    }\n",
              "\n",
              "    [theme=dark] .colab-df-convert {\n",
              "      background-color: #3B4455;\n",
              "      fill: #D2E3FC;\n",
              "    }\n",
              "\n",
              "    [theme=dark] .colab-df-convert:hover {\n",
              "      background-color: #434B5C;\n",
              "      box-shadow: 0px 1px 3px 1px rgba(0, 0, 0, 0.15);\n",
              "      filter: drop-shadow(0px 1px 2px rgba(0, 0, 0, 0.3));\n",
              "      fill: #FFFFFF;\n",
              "    }\n",
              "  </style>\n",
              "\n",
              "      <script>\n",
              "        const buttonEl =\n",
              "          document.querySelector('#df-055f6dce-2126-4693-8789-e032a11d0fe1 button.colab-df-convert');\n",
              "        buttonEl.style.display =\n",
              "          google.colab.kernel.accessAllowed ? 'block' : 'none';\n",
              "\n",
              "        async function convertToInteractive(key) {\n",
              "          const element = document.querySelector('#df-055f6dce-2126-4693-8789-e032a11d0fe1');\n",
              "          const dataTable =\n",
              "            await google.colab.kernel.invokeFunction('convertToInteractive',\n",
              "                                                     [key], {});\n",
              "          if (!dataTable) return;\n",
              "\n",
              "          const docLinkHtml = 'Like what you see? Visit the ' +\n",
              "            '<a target=\"_blank\" href=https://colab.research.google.com/notebooks/data_table.ipynb>data table notebook</a>'\n",
              "            + ' to learn more about interactive tables.';\n",
              "          element.innerHTML = '';\n",
              "          dataTable['output_type'] = 'display_data';\n",
              "          await google.colab.output.renderOutput(dataTable, element);\n",
              "          const docLink = document.createElement('div');\n",
              "          docLink.innerHTML = docLinkHtml;\n",
              "          element.appendChild(docLink);\n",
              "        }\n",
              "      </script>\n",
              "    </div>\n",
              "  </div>\n",
              "  "
            ]
          },
          "metadata": {},
          "execution_count": 89
        }
      ],
      "source": [
        "df.info()\n",
        "df.set_index('Genome ID')"
      ]
    },
    {
      "cell_type": "code",
      "execution_count": null,
      "metadata": {
        "id": "ZTHXr7_A3Yo9"
      },
      "outputs": [],
      "source": [
        "import numpy as np # linear algebra\n",
        "import pandas as pd # data processing, CSV file I/O (e.g. pd.read_csv)\n",
        "import matplotlib.pyplot as plt # for data visualization\n",
        "import seaborn as sns # for statistical data visualization\n",
        "%matplotlib inline"
      ]
    },
    {
      "cell_type": "code",
      "execution_count": null,
      "metadata": {
        "id": "QnAbM-wBQiSo"
      },
      "outputs": [],
      "source": [
        "df.describe()\n",
        "df2=df"
      ]
    },
    {
      "cell_type": "code",
      "execution_count": null,
      "metadata": {
        "id": "fh_sPOY5RGNV"
      },
      "outputs": [],
      "source": [
        "#feature vector and target variable\n",
        "X = df\n",
        "Z=df2"
      ]
    },
    {
      "cell_type": "code",
      "execution_count": null,
      "metadata": {
        "colab": {
          "base_uri": "https://localhost:8080/",
          "height": 206
        },
        "id": "RvLT3i4oRuPX",
        "outputId": "5ef6341a-2dc2-44a4-ddf4-ca4a056f6b56"
      },
      "outputs": [
        {
          "output_type": "execute_result",
          "data": {
            "text/plain": [
              "gene  Genome ID  adeA  adeB  adeC  adeR  adeS\n",
              "0     470.10855     1     1     1     1     1\n",
              "1     470.10856     1     1     1     1     1\n",
              "2     470.10857     1     1     1     1     1\n",
              "3     470.10858     1     1     1     1     1\n",
              "4     470.10859     1     1     1     1     1"
            ],
            "text/html": [
              "\n",
              "  <div id=\"df-7a44d969-8b76-421a-8c0c-04b40a17032a\">\n",
              "    <div class=\"colab-df-container\">\n",
              "      <div>\n",
              "<style scoped>\n",
              "    .dataframe tbody tr th:only-of-type {\n",
              "        vertical-align: middle;\n",
              "    }\n",
              "\n",
              "    .dataframe tbody tr th {\n",
              "        vertical-align: top;\n",
              "    }\n",
              "\n",
              "    .dataframe thead th {\n",
              "        text-align: right;\n",
              "    }\n",
              "</style>\n",
              "<table border=\"1\" class=\"dataframe\">\n",
              "  <thead>\n",
              "    <tr style=\"text-align: right;\">\n",
              "      <th>gene</th>\n",
              "      <th>Genome ID</th>\n",
              "      <th>adeA</th>\n",
              "      <th>adeB</th>\n",
              "      <th>adeC</th>\n",
              "      <th>adeR</th>\n",
              "      <th>adeS</th>\n",
              "    </tr>\n",
              "  </thead>\n",
              "  <tbody>\n",
              "    <tr>\n",
              "      <th>0</th>\n",
              "      <td>470.10855</td>\n",
              "      <td>1</td>\n",
              "      <td>1</td>\n",
              "      <td>1</td>\n",
              "      <td>1</td>\n",
              "      <td>1</td>\n",
              "    </tr>\n",
              "    <tr>\n",
              "      <th>1</th>\n",
              "      <td>470.10856</td>\n",
              "      <td>1</td>\n",
              "      <td>1</td>\n",
              "      <td>1</td>\n",
              "      <td>1</td>\n",
              "      <td>1</td>\n",
              "    </tr>\n",
              "    <tr>\n",
              "      <th>2</th>\n",
              "      <td>470.10857</td>\n",
              "      <td>1</td>\n",
              "      <td>1</td>\n",
              "      <td>1</td>\n",
              "      <td>1</td>\n",
              "      <td>1</td>\n",
              "    </tr>\n",
              "    <tr>\n",
              "      <th>3</th>\n",
              "      <td>470.10858</td>\n",
              "      <td>1</td>\n",
              "      <td>1</td>\n",
              "      <td>1</td>\n",
              "      <td>1</td>\n",
              "      <td>1</td>\n",
              "    </tr>\n",
              "    <tr>\n",
              "      <th>4</th>\n",
              "      <td>470.10859</td>\n",
              "      <td>1</td>\n",
              "      <td>1</td>\n",
              "      <td>1</td>\n",
              "      <td>1</td>\n",
              "      <td>1</td>\n",
              "    </tr>\n",
              "  </tbody>\n",
              "</table>\n",
              "</div>\n",
              "      <button class=\"colab-df-convert\" onclick=\"convertToInteractive('df-7a44d969-8b76-421a-8c0c-04b40a17032a')\"\n",
              "              title=\"Convert this dataframe to an interactive table.\"\n",
              "              style=\"display:none;\">\n",
              "        \n",
              "  <svg xmlns=\"http://www.w3.org/2000/svg\" height=\"24px\"viewBox=\"0 0 24 24\"\n",
              "       width=\"24px\">\n",
              "    <path d=\"M0 0h24v24H0V0z\" fill=\"none\"/>\n",
              "    <path d=\"M18.56 5.44l.94 2.06.94-2.06 2.06-.94-2.06-.94-.94-2.06-.94 2.06-2.06.94zm-11 1L8.5 8.5l.94-2.06 2.06-.94-2.06-.94L8.5 2.5l-.94 2.06-2.06.94zm10 10l.94 2.06.94-2.06 2.06-.94-2.06-.94-.94-2.06-.94 2.06-2.06.94z\"/><path d=\"M17.41 7.96l-1.37-1.37c-.4-.4-.92-.59-1.43-.59-.52 0-1.04.2-1.43.59L10.3 9.45l-7.72 7.72c-.78.78-.78 2.05 0 2.83L4 21.41c.39.39.9.59 1.41.59.51 0 1.02-.2 1.41-.59l7.78-7.78 2.81-2.81c.8-.78.8-2.07 0-2.86zM5.41 20L4 18.59l7.72-7.72 1.47 1.35L5.41 20z\"/>\n",
              "  </svg>\n",
              "      </button>\n",
              "      \n",
              "  <style>\n",
              "    .colab-df-container {\n",
              "      display:flex;\n",
              "      flex-wrap:wrap;\n",
              "      gap: 12px;\n",
              "    }\n",
              "\n",
              "    .colab-df-convert {\n",
              "      background-color: #E8F0FE;\n",
              "      border: none;\n",
              "      border-radius: 50%;\n",
              "      cursor: pointer;\n",
              "      display: none;\n",
              "      fill: #1967D2;\n",
              "      height: 32px;\n",
              "      padding: 0 0 0 0;\n",
              "      width: 32px;\n",
              "    }\n",
              "\n",
              "    .colab-df-convert:hover {\n",
              "      background-color: #E2EBFA;\n",
              "      box-shadow: 0px 1px 2px rgba(60, 64, 67, 0.3), 0px 1px 3px 1px rgba(60, 64, 67, 0.15);\n",
              "      fill: #174EA6;\n",
              "    }\n",
              "\n",
              "    [theme=dark] .colab-df-convert {\n",
              "      background-color: #3B4455;\n",
              "      fill: #D2E3FC;\n",
              "    }\n",
              "\n",
              "    [theme=dark] .colab-df-convert:hover {\n",
              "      background-color: #434B5C;\n",
              "      box-shadow: 0px 1px 3px 1px rgba(0, 0, 0, 0.15);\n",
              "      filter: drop-shadow(0px 1px 2px rgba(0, 0, 0, 0.3));\n",
              "      fill: #FFFFFF;\n",
              "    }\n",
              "  </style>\n",
              "\n",
              "      <script>\n",
              "        const buttonEl =\n",
              "          document.querySelector('#df-7a44d969-8b76-421a-8c0c-04b40a17032a button.colab-df-convert');\n",
              "        buttonEl.style.display =\n",
              "          google.colab.kernel.accessAllowed ? 'block' : 'none';\n",
              "\n",
              "        async function convertToInteractive(key) {\n",
              "          const element = document.querySelector('#df-7a44d969-8b76-421a-8c0c-04b40a17032a');\n",
              "          const dataTable =\n",
              "            await google.colab.kernel.invokeFunction('convertToInteractive',\n",
              "                                                     [key], {});\n",
              "          if (!dataTable) return;\n",
              "\n",
              "          const docLinkHtml = 'Like what you see? Visit the ' +\n",
              "            '<a target=\"_blank\" href=https://colab.research.google.com/notebooks/data_table.ipynb>data table notebook</a>'\n",
              "            + ' to learn more about interactive tables.';\n",
              "          element.innerHTML = '';\n",
              "          dataTable['output_type'] = 'display_data';\n",
              "          await google.colab.output.renderOutput(dataTable, element);\n",
              "          const docLink = document.createElement('div');\n",
              "          docLink.innerHTML = docLinkHtml;\n",
              "          element.appendChild(docLink);\n",
              "        }\n",
              "      </script>\n",
              "    </div>\n",
              "  </div>\n",
              "  "
            ]
          },
          "metadata": {},
          "execution_count": 93
        }
      ],
      "source": [
        "df.head()\n"
      ]
    },
    {
      "cell_type": "code",
      "execution_count": null,
      "metadata": {
        "colab": {
          "base_uri": "https://localhost:8080/"
        },
        "id": "XZHiNHnBTDyj",
        "outputId": "630e5070-2376-4add-e9ac-6cdd1dda5e78"
      },
      "outputs": [
        {
          "output_type": "execute_result",
          "data": {
            "text/plain": [
              "KMeans(n_clusters=4, random_state=0)"
            ]
          },
          "metadata": {},
          "execution_count": 94
        }
      ],
      "source": [
        "from sklearn.cluster import KMeans\n",
        "#two clusters for now\n",
        "kmeans = KMeans(n_clusters=3, random_state=0)\n",
        "kmeans2=KMeans(n_clusters=4, random_state=0)\n",
        "kmeans.fit(X)\n",
        "kmeans2.fit(Z)"
      ]
    },
    {
      "cell_type": "code",
      "execution_count": null,
      "metadata": {
        "colab": {
          "base_uri": "https://localhost:8080/"
        },
        "id": "vO0JoMIqTELC",
        "outputId": "0121cc5f-52cd-43cf-9274-d68d272c69da"
      },
      "outputs": [
        {
          "output_type": "execute_result",
          "data": {
            "text/plain": [
              "array([[ 4.70140891e+02,  1.00000000e+00,  1.00000000e+00,\n",
              "         1.00000000e+00,  1.00000000e+00,  1.00000000e+00],\n",
              "       [ 4.70263297e+02,  1.00000000e+00,  1.00000000e+00,\n",
              "        -3.33066907e-16,  1.00000000e+00,  9.82758621e-01],\n",
              "       [ 4.70897560e+02,  0.00000000e+00,  4.00000000e-01,\n",
              "         4.00000000e-01, -1.11022302e-16,  1.00000000e+00],\n",
              "       [ 4.70119698e+02,  1.00000000e+00,  1.00000000e+00,\n",
              "         1.00000000e+00, -1.11022302e-16,  0.00000000e+00]])"
            ]
          },
          "metadata": {},
          "execution_count": 95
        }
      ],
      "source": [
        "#what am I looking at? kaggle says it's model parameters study\n",
        "kmeans.cluster_centers_\n",
        "kmeans2.cluster_centers_"
      ]
    },
    {
      "cell_type": "code",
      "execution_count": null,
      "metadata": {
        "colab": {
          "base_uri": "https://localhost:8080/"
        },
        "id": "Cjss04H7TcAZ",
        "outputId": "082ca66a-383e-4270-aa86-a716301728a1"
      },
      "outputs": [
        {
          "output_type": "execute_result",
          "data": {
            "text/plain": [
              "11.769811871539728"
            ]
          },
          "metadata": {},
          "execution_count": 96
        }
      ],
      "source": [
        "\n",
        "#what is model inertia?\n",
        "kmeans.inertia_\n",
        "kmeans2.inertia_\n"
      ]
    },
    {
      "cell_type": "code",
      "execution_count": null,
      "metadata": {
        "colab": {
          "base_uri": "https://localhost:8080/",
          "height": 70
        },
        "id": "4HLZoFQxUBCX",
        "outputId": "105d83c5-d225-4dda-c9af-df9d1e84977f"
      },
      "outputs": [
        {
          "output_type": "execute_result",
          "data": {
            "text/plain": [
              "'#for number of clusters\\nssd = []\\nrange_n_clusters = [2, 3, 4, 5, 6, 7, 8,9,10]\\nfor num_clusters in range_n_clusters:\\n    kmeans = KMeans(n_clusters=num_clusters, max_iter=50)\\n    kmeans.fit(df)\\n    \\n    ssd.append(kmeans.inertia_)\\n    \\n# plot the SSDs for each n_clusters\\nplt.plot(ssd)'"
            ],
            "application/vnd.google.colaboratory.intrinsic+json": {
              "type": "string"
            }
          },
          "metadata": {},
          "execution_count": 97
        }
      ],
      "source": [
        "\"\"\"#for number of clusters\n",
        "ssd = []\n",
        "range_n_clusters = [2, 3, 4, 5, 6, 7, 8,9,10]\n",
        "for num_clusters in range_n_clusters:\n",
        "    kmeans = KMeans(n_clusters=num_clusters, max_iter=50)\n",
        "    kmeans.fit(df)\n",
        "\n",
        "    ssd.append(kmeans.inertia_)\n",
        "\n",
        "# plot the SSDs for each n_clusters\n",
        "plt.plot(ssd)\"\"\""
      ]
    },
    {
      "cell_type": "code",
      "execution_count": null,
      "metadata": {
        "colab": {
          "base_uri": "https://localhost:8080/"
        },
        "id": "ZRlZxz1pVwXP",
        "outputId": "5bcbfab9-e500-4805-a4ae-81b81ebcf9db"
      },
      "outputs": [
        {
          "output_type": "execute_result",
          "data": {
            "text/plain": [
              "array([0, 0, 0, 0, 0, 0, 0, 0, 0, 0, 0, 0, 0, 0, 0, 0, 0, 0, 0, 0, 0, 0,\n",
              "       0, 0, 0, 1, 0, 0, 0, 0, 0, 0, 0, 0, 0, 0, 0, 0, 0, 0, 0, 0, 0, 1,\n",
              "       0, 1, 0, 0, 0, 0, 0, 1, 1, 3, 1, 0, 0, 1, 0, 0, 0, 1, 0, 0, 0, 0,\n",
              "       0, 0, 0, 0, 0, 0, 1, 0, 0, 0, 0, 0, 0, 1, 1, 0, 1, 0, 0, 0, 0, 0,\n",
              "       0, 0, 0, 0, 0, 1, 0, 0, 0, 1, 1, 0, 1, 0, 0, 0, 0, 0, 0, 1, 0, 0,\n",
              "       0, 0, 0, 0, 0, 0, 0, 1, 0, 1, 0, 0, 0, 0, 0, 0, 0, 0, 0, 0, 0, 0,\n",
              "       0, 0, 0, 0, 0, 0, 0, 1, 0, 0, 0, 0, 3, 0, 0, 0, 0, 0, 0, 0, 0, 0,\n",
              "       0, 0, 0, 1, 0, 0, 0, 1, 0, 0, 0, 0, 0, 1, 0, 0, 0, 0, 0, 0, 0, 0,\n",
              "       0, 0, 0, 0, 0, 0, 0, 0, 0, 0, 0, 0, 0, 1, 0, 0, 0, 0, 0, 0, 0, 0,\n",
              "       0, 0, 0, 3, 0, 0, 0, 1, 0, 0, 0, 0, 0, 0, 0, 0, 0, 0, 0, 0, 0, 0,\n",
              "       0, 0, 0, 0, 0, 0, 0, 0, 0, 0, 0, 0, 0, 0, 1, 0, 0, 0, 3, 0, 0, 0,\n",
              "       0, 0, 0, 0, 0, 0, 0, 0, 0, 0, 0, 0, 0, 0, 1, 0, 0, 0, 0, 1, 0, 0,\n",
              "       0, 0, 0, 0, 0, 1, 0, 0, 0, 0, 1, 0, 0, 0, 0, 0, 3, 1, 1, 1, 1, 1,\n",
              "       1, 1, 1, 1, 1, 0, 1, 1, 1, 1, 1, 1, 1, 1, 1, 1, 1, 1, 1, 1, 2, 0,\n",
              "       0, 0, 2, 1, 1, 0, 2, 1, 1, 0, 2, 2, 0, 0, 0], dtype=int32)"
            ]
          },
          "metadata": {},
          "execution_count": 98
        }
      ],
      "source": [
        "kmeans.labels_\n",
        "kmeans2.labels_"
      ]
    },
    {
      "cell_type": "markdown",
      "metadata": {
        "id": "XSykAPEwWVpp"
      },
      "source": [
        "sns.boxplot(x='Cluster_Id', y='Genome ID', data=df)"
      ]
    },
    {
      "cell_type": "code",
      "execution_count": null,
      "metadata": {
        "colab": {
          "base_uri": "https://localhost:8080/",
          "height": 206
        },
        "id": "m_NRLtDi2Aik",
        "outputId": "435845d9-5471-4754-e0ff-1050855dc3aa"
      },
      "outputs": [
        {
          "output_type": "execute_result",
          "data": {
            "text/plain": [
              "gene Genome ID  adeA  adeB  adeC  adeR  adeS  Cluster ID\n",
              "318   470.9346     0     0     0     0     1           2\n",
              "319   470.9347     0     1     1     0     1           2\n",
              "320   470.9348     1     1     1     1     1           0\n",
              "321   470.9411     1     1     1     1     1           0\n",
              "322   470.9416     1     1     1     1     1           0"
            ],
            "text/html": [
              "\n",
              "  <div id=\"df-3be8a1ac-444a-41cd-922b-864806cc2c33\">\n",
              "    <div class=\"colab-df-container\">\n",
              "      <div>\n",
              "<style scoped>\n",
              "    .dataframe tbody tr th:only-of-type {\n",
              "        vertical-align: middle;\n",
              "    }\n",
              "\n",
              "    .dataframe tbody tr th {\n",
              "        vertical-align: top;\n",
              "    }\n",
              "\n",
              "    .dataframe thead th {\n",
              "        text-align: right;\n",
              "    }\n",
              "</style>\n",
              "<table border=\"1\" class=\"dataframe\">\n",
              "  <thead>\n",
              "    <tr style=\"text-align: right;\">\n",
              "      <th>gene</th>\n",
              "      <th>Genome ID</th>\n",
              "      <th>adeA</th>\n",
              "      <th>adeB</th>\n",
              "      <th>adeC</th>\n",
              "      <th>adeR</th>\n",
              "      <th>adeS</th>\n",
              "      <th>Cluster ID</th>\n",
              "    </tr>\n",
              "  </thead>\n",
              "  <tbody>\n",
              "    <tr>\n",
              "      <th>318</th>\n",
              "      <td>470.9346</td>\n",
              "      <td>0</td>\n",
              "      <td>0</td>\n",
              "      <td>0</td>\n",
              "      <td>0</td>\n",
              "      <td>1</td>\n",
              "      <td>2</td>\n",
              "    </tr>\n",
              "    <tr>\n",
              "      <th>319</th>\n",
              "      <td>470.9347</td>\n",
              "      <td>0</td>\n",
              "      <td>1</td>\n",
              "      <td>1</td>\n",
              "      <td>0</td>\n",
              "      <td>1</td>\n",
              "      <td>2</td>\n",
              "    </tr>\n",
              "    <tr>\n",
              "      <th>320</th>\n",
              "      <td>470.9348</td>\n",
              "      <td>1</td>\n",
              "      <td>1</td>\n",
              "      <td>1</td>\n",
              "      <td>1</td>\n",
              "      <td>1</td>\n",
              "      <td>0</td>\n",
              "    </tr>\n",
              "    <tr>\n",
              "      <th>321</th>\n",
              "      <td>470.9411</td>\n",
              "      <td>1</td>\n",
              "      <td>1</td>\n",
              "      <td>1</td>\n",
              "      <td>1</td>\n",
              "      <td>1</td>\n",
              "      <td>0</td>\n",
              "    </tr>\n",
              "    <tr>\n",
              "      <th>322</th>\n",
              "      <td>470.9416</td>\n",
              "      <td>1</td>\n",
              "      <td>1</td>\n",
              "      <td>1</td>\n",
              "      <td>1</td>\n",
              "      <td>1</td>\n",
              "      <td>0</td>\n",
              "    </tr>\n",
              "  </tbody>\n",
              "</table>\n",
              "</div>\n",
              "      <button class=\"colab-df-convert\" onclick=\"convertToInteractive('df-3be8a1ac-444a-41cd-922b-864806cc2c33')\"\n",
              "              title=\"Convert this dataframe to an interactive table.\"\n",
              "              style=\"display:none;\">\n",
              "        \n",
              "  <svg xmlns=\"http://www.w3.org/2000/svg\" height=\"24px\"viewBox=\"0 0 24 24\"\n",
              "       width=\"24px\">\n",
              "    <path d=\"M0 0h24v24H0V0z\" fill=\"none\"/>\n",
              "    <path d=\"M18.56 5.44l.94 2.06.94-2.06 2.06-.94-2.06-.94-.94-2.06-.94 2.06-2.06.94zm-11 1L8.5 8.5l.94-2.06 2.06-.94-2.06-.94L8.5 2.5l-.94 2.06-2.06.94zm10 10l.94 2.06.94-2.06 2.06-.94-2.06-.94-.94-2.06-.94 2.06-2.06.94z\"/><path d=\"M17.41 7.96l-1.37-1.37c-.4-.4-.92-.59-1.43-.59-.52 0-1.04.2-1.43.59L10.3 9.45l-7.72 7.72c-.78.78-.78 2.05 0 2.83L4 21.41c.39.39.9.59 1.41.59.51 0 1.02-.2 1.41-.59l7.78-7.78 2.81-2.81c.8-.78.8-2.07 0-2.86zM5.41 20L4 18.59l7.72-7.72 1.47 1.35L5.41 20z\"/>\n",
              "  </svg>\n",
              "      </button>\n",
              "      \n",
              "  <style>\n",
              "    .colab-df-container {\n",
              "      display:flex;\n",
              "      flex-wrap:wrap;\n",
              "      gap: 12px;\n",
              "    }\n",
              "\n",
              "    .colab-df-convert {\n",
              "      background-color: #E8F0FE;\n",
              "      border: none;\n",
              "      border-radius: 50%;\n",
              "      cursor: pointer;\n",
              "      display: none;\n",
              "      fill: #1967D2;\n",
              "      height: 32px;\n",
              "      padding: 0 0 0 0;\n",
              "      width: 32px;\n",
              "    }\n",
              "\n",
              "    .colab-df-convert:hover {\n",
              "      background-color: #E2EBFA;\n",
              "      box-shadow: 0px 1px 2px rgba(60, 64, 67, 0.3), 0px 1px 3px 1px rgba(60, 64, 67, 0.15);\n",
              "      fill: #174EA6;\n",
              "    }\n",
              "\n",
              "    [theme=dark] .colab-df-convert {\n",
              "      background-color: #3B4455;\n",
              "      fill: #D2E3FC;\n",
              "    }\n",
              "\n",
              "    [theme=dark] .colab-df-convert:hover {\n",
              "      background-color: #434B5C;\n",
              "      box-shadow: 0px 1px 3px 1px rgba(0, 0, 0, 0.15);\n",
              "      filter: drop-shadow(0px 1px 2px rgba(0, 0, 0, 0.3));\n",
              "      fill: #FFFFFF;\n",
              "    }\n",
              "  </style>\n",
              "\n",
              "      <script>\n",
              "        const buttonEl =\n",
              "          document.querySelector('#df-3be8a1ac-444a-41cd-922b-864806cc2c33 button.colab-df-convert');\n",
              "        buttonEl.style.display =\n",
              "          google.colab.kernel.accessAllowed ? 'block' : 'none';\n",
              "\n",
              "        async function convertToInteractive(key) {\n",
              "          const element = document.querySelector('#df-3be8a1ac-444a-41cd-922b-864806cc2c33');\n",
              "          const dataTable =\n",
              "            await google.colab.kernel.invokeFunction('convertToInteractive',\n",
              "                                                     [key], {});\n",
              "          if (!dataTable) return;\n",
              "\n",
              "          const docLinkHtml = 'Like what you see? Visit the ' +\n",
              "            '<a target=\"_blank\" href=https://colab.research.google.com/notebooks/data_table.ipynb>data table notebook</a>'\n",
              "            + ' to learn more about interactive tables.';\n",
              "          element.innerHTML = '';\n",
              "          dataTable['output_type'] = 'display_data';\n",
              "          await google.colab.output.renderOutput(dataTable, element);\n",
              "          const docLink = document.createElement('div');\n",
              "          docLink.innerHTML = docLinkHtml;\n",
              "          element.appendChild(docLink);\n",
              "        }\n",
              "      </script>\n",
              "    </div>\n",
              "  </div>\n",
              "  "
            ]
          },
          "metadata": {},
          "execution_count": 99
        }
      ],
      "source": [
        "df2=df\n",
        "df['Cluster ID']=kmeans.labels_\n",
        "df2['Cluster ID']=kmeans2.labels_\n",
        "df.tail()\n",
        "df2.tail()"
      ]
    },
    {
      "cell_type": "code",
      "execution_count": null,
      "metadata": {
        "id": "Gd89u6uMIleQ"
      },
      "outputs": [],
      "source": [
        "cluster22=df2[df['Cluster ID'].values==2]\n",
        "cluster20=df2[df['Cluster ID'].values==0]\n",
        "cluster21=df2[df['Cluster ID'].values==1]\n",
        "cluster23=df2[df['Cluster ID'].values==3]\n",
        "\n"
      ]
    },
    {
      "cell_type": "code",
      "execution_count": null,
      "metadata": {
        "colab": {
          "base_uri": "https://localhost:8080/"
        },
        "id": "hV_SsvtqN6MJ",
        "outputId": "41972ffd-2124-4c4c-a5bb-c31f7ad9639d"
      },
      "outputs": [
        {
          "output_type": "stream",
          "name": "stdout",
          "text": [
            "gene  Genome ID  adeA  adeB  adeC  adeR  adeS  Cluster ID\n",
            "0     470.10855     1     1     1     1     1           0\n",
            "1     470.10856     1     1     1     1     1           0\n",
            "2     470.10857     1     1     1     1     1           0\n",
            "3     470.10858     1     1     1     1     1           0\n",
            "4     470.10859     1     1     1     1     1           0\n",
            "..          ...   ...   ...   ...   ...   ...         ...\n",
            "313    470.9341     1     1     1     1     1           0\n",
            "317    470.9345     1     1     1     1     1           0\n",
            "320    470.9348     1     1     1     1     1           0\n",
            "321    470.9411     1     1     1     1     1           0\n",
            "322    470.9416     1     1     1     1     1           0\n",
            "\n",
            "[255 rows x 7 columns]\n",
            "<class 'pandas.core.frame.DataFrame'>\n",
            "Int64Index: 255 entries, 0 to 322\n",
            "Data columns (total 7 columns):\n",
            " #   Column      Non-Null Count  Dtype \n",
            "---  ------      --------------  ----- \n",
            " 0   Genome ID   255 non-null    object\n",
            " 1   adeA        255 non-null    int64 \n",
            " 2   adeB        255 non-null    int64 \n",
            " 3   adeC        255 non-null    int64 \n",
            " 4   adeR        255 non-null    int64 \n",
            " 5   adeS        255 non-null    int64 \n",
            " 6   Cluster ID  255 non-null    int32 \n",
            "dtypes: int32(1), int64(5), object(1)\n",
            "memory usage: 14.9+ KB\n"
          ]
        }
      ],
      "source": [
        "print(cluster20)\n",
        "cluster20.info()"
      ]
    },
    {
      "cell_type": "code",
      "execution_count": null,
      "metadata": {
        "colab": {
          "base_uri": "https://localhost:8080/"
        },
        "id": "wBXY6iz7qWSF",
        "outputId": "ca429505-a6c2-4710-c742-e980435baef4"
      },
      "outputs": [
        {
          "output_type": "stream",
          "name": "stdout",
          "text": [
            "gene  Genome ID  adeA  adeB  adeC  adeR  adeS  Cluster ID\n",
            "25    470.10880     1     1     0     1     1           1\n",
            "43    470.10898     1     1     0     1     1           1\n",
            "45    470.10900     1     1     0     1     1           1\n",
            "51    470.10906     1     1     0     1     1           1\n",
            "52    470.10907     1     1     0     1     1           1\n",
            "54    470.10909     1     1     0     1     1           1\n",
            "57    470.10912     1     1     0     1     1           1\n",
            "61    470.10916     1     1     0     1     1           1\n",
            "72    470.10928     1     1     0     1     1           1\n",
            "79    470.10935     1     1     0     1     1           1\n",
            "80    470.10936     1     1     0     1     1           1\n",
            "82    470.10938     1     1     0     1     0           1\n",
            "93    470.10949     1     1     0     1     1           1\n",
            "97    470.10974     1     1     0     1     1           1\n",
            "98    470.10975     1     1     0     1     1           1\n",
            "100   470.10977     1     1     0     1     1           1\n",
            "107   470.10984     1     1     0     1     1           1\n",
            "117   470.10994     1     1     0     1     1           1\n",
            "119   470.10996     1     1     0     1     1           1\n",
            "139   470.11016     1     1     0     1     1           1\n",
            "157   470.11034     1     1     0     1     1           1\n",
            "161   470.11038     1     1     0     1     1           1\n",
            "167   470.11044     1     1     0     1     1           1\n",
            "189   470.11480     1     1     0     1     1           1\n",
            "205   470.13160     1     1     0     1     1           1\n",
            "234   470.13189     1     1     0     1     1           1\n",
            "256   470.13211     1     1     0     1     1           1\n",
            "261   470.13216     1     1     0     1     1           1\n",
            "269   470.13224     1     1     0     1     1           1\n",
            "274   470.13229     1     1     0     1     1           1\n",
            "281   470.13236     1     1     0     1     1           1\n",
            "282   470.13237     1     1     0     1     1           1\n",
            "283   470.13238     1     1     0     1     1           1\n",
            "284   470.13239     1     1     0     1     1           1\n",
            "285   470.13240     1     1     0     1     1           1\n",
            "286   470.13241     1     1     0     1     1           1\n",
            "287   470.13242     1     1     0     1     1           1\n",
            "288   470.13243     1     1     0     1     1           1\n",
            "289   470.13244     1     1     0     1     1           1\n",
            "290   470.13245     1     1     0     1     1           1\n",
            "292   470.18121     1     1     0     1     1           1\n",
            "293   470.18122     1     1     0     1     1           1\n",
            "294   470.19438     1     1     0     1     1           1\n",
            "295    470.5820     1     1     0     1     1           1\n",
            "296    470.5821     1     1     0     1     1           1\n",
            "297    470.5822     1     1     0     1     1           1\n",
            "298    470.5823     1     1     0     1     1           1\n",
            "299    470.5824     1     1     0     1     1           1\n",
            "300    470.5827     1     1     0     1     1           1\n",
            "301    470.5828     1     1     0     1     1           1\n",
            "302    470.5829     1     1     0     1     1           1\n",
            "303    470.5830     1     1     0     1     1           1\n",
            "304    470.5831     1     1     0     1     1           1\n",
            "305    470.5832     1     1     0     1     1           1\n",
            "311    470.8429     1     1     0     1     1           1\n",
            "312    470.8435     1     1     0     1     1           1\n",
            "315    470.9343     1     1     0     1     1           1\n",
            "316    470.9344     1     1     0     1     1           1\n",
            "<class 'pandas.core.frame.DataFrame'>\n",
            "Int64Index: 58 entries, 25 to 316\n",
            "Data columns (total 7 columns):\n",
            " #   Column      Non-Null Count  Dtype \n",
            "---  ------      --------------  ----- \n",
            " 0   Genome ID   58 non-null     object\n",
            " 1   adeA        58 non-null     int64 \n",
            " 2   adeB        58 non-null     int64 \n",
            " 3   adeC        58 non-null     int64 \n",
            " 4   adeR        58 non-null     int64 \n",
            " 5   adeS        58 non-null     int64 \n",
            " 6   Cluster ID  58 non-null     int32 \n",
            "dtypes: int32(1), int64(5), object(1)\n",
            "memory usage: 3.4+ KB\n"
          ]
        }
      ],
      "source": [
        "print(cluster21)\n",
        "cluster21.info()"
      ]
    },
    {
      "cell_type": "code",
      "execution_count": null,
      "metadata": {
        "colab": {
          "base_uri": "https://localhost:8080/"
        },
        "id": "200n2ssqN-Nh",
        "outputId": "0042080e-a062-4683-add5-3b37bd4a6edb"
      },
      "outputs": [
        {
          "output_type": "stream",
          "name": "stdout",
          "text": [
            "gene Genome ID  adeA  adeB  adeC  adeR  adeS  Cluster ID\n",
            "306   470.8415     0     0     0     0     1           2\n",
            "310   470.8428     0     1     1     0     1           2\n",
            "314   470.9342     0     0     0     0     1           2\n",
            "318   470.9346     0     0     0     0     1           2\n",
            "319   470.9347     0     1     1     0     1           2\n"
          ]
        }
      ],
      "source": [
        "print(cluster22)"
      ]
    },
    {
      "cell_type": "code",
      "execution_count": null,
      "metadata": {
        "colab": {
          "base_uri": "https://localhost:8080/"
        },
        "id": "ymmMjLurMU7C",
        "outputId": "46662ebf-22f7-4499-aa53-af77e3a85b23"
      },
      "outputs": [
        {
          "output_type": "stream",
          "name": "stdout",
          "text": [
            "gene  Genome ID  adeA  adeB  adeC  adeR  adeS  Cluster ID\n",
            "53    470.10908     1     1     1     0     0           3\n",
            "144   470.11021     1     1     1     0     0           3\n",
            "201   470.11492     1     1     1     0     0           3\n",
            "238   470.13193     1     1     1     0     0           3\n",
            "280   470.13235     1     1     1     0     0           3\n"
          ]
        }
      ],
      "source": [
        "print(cluster23)"
      ]
    },
    {
      "cell_type": "code",
      "execution_count": null,
      "metadata": {
        "id": "95mXCxRw4wWv"
      },
      "outputs": [],
      "source": [
        "cluster2=df[df['Cluster ID'].values==2]\n",
        "cluster0=df[df['Cluster ID'].values==0]\n",
        "cluster1=df[df['Cluster ID'].values==1]"
      ]
    },
    {
      "cell_type": "code",
      "execution_count": null,
      "metadata": {
        "colab": {
          "base_uri": "https://localhost:8080/"
        },
        "id": "QyqyUmlX7pL9",
        "outputId": "274c01c3-d34d-489c-8b92-fc2670d50d7d"
      },
      "outputs": [
        {
          "output_type": "stream",
          "name": "stdout",
          "text": [
            "gene Genome ID  adeA  adeB  adeC  adeR  adeS  Cluster ID\n",
            "306   470.8415     0     0     0     0     1           2\n",
            "310   470.8428     0     1     1     0     1           2\n",
            "314   470.9342     0     0     0     0     1           2\n",
            "318   470.9346     0     0     0     0     1           2\n",
            "319   470.9347     0     1     1     0     1           2\n"
          ]
        }
      ],
      "source": [
        "print(cluster2)\n"
      ]
    },
    {
      "cell_type": "code",
      "execution_count": null,
      "metadata": {
        "colab": {
          "base_uri": "https://localhost:8080/"
        },
        "id": "kJN1a-Ma7r6j",
        "outputId": "067360bc-a591-4369-d697-4ee1b80d7e76"
      },
      "outputs": [
        {
          "output_type": "stream",
          "name": "stdout",
          "text": [
            "gene  Genome ID  adeA  adeB  adeC  adeR  adeS  Cluster ID\n",
            "0     470.10855     1     1     1     1     1           0\n",
            "1     470.10856     1     1     1     1     1           0\n",
            "2     470.10857     1     1     1     1     1           0\n",
            "3     470.10858     1     1     1     1     1           0\n",
            "4     470.10859     1     1     1     1     1           0\n",
            "..          ...   ...   ...   ...   ...   ...         ...\n",
            "313    470.9341     1     1     1     1     1           0\n",
            "317    470.9345     1     1     1     1     1           0\n",
            "320    470.9348     1     1     1     1     1           0\n",
            "321    470.9411     1     1     1     1     1           0\n",
            "322    470.9416     1     1     1     1     1           0\n",
            "\n",
            "[255 rows x 7 columns]\n"
          ]
        }
      ],
      "source": [
        "print(cluster0)"
      ]
    },
    {
      "cell_type": "code",
      "execution_count": null,
      "metadata": {
        "colab": {
          "base_uri": "https://localhost:8080/",
          "height": 206
        },
        "id": "Ols4me3mqr4d",
        "outputId": "00530b7d-588b-4a13-9ea3-67841f6dd9cb"
      },
      "outputs": [
        {
          "output_type": "execute_result",
          "data": {
            "text/plain": [
              "gene  Genome ID  adeA  adeB  adeC  adeR  adeS  Cluster ID\n",
              "25    470.10880     1     1     0     1     1           1\n",
              "43    470.10898     1     1     0     1     1           1\n",
              "45    470.10900     1     1     0     1     1           1\n",
              "51    470.10906     1     1     0     1     1           1\n",
              "52    470.10907     1     1     0     1     1           1"
            ],
            "text/html": [
              "\n",
              "  <div id=\"df-90675977-9297-4bfd-b110-7b9f44b2192a\">\n",
              "    <div class=\"colab-df-container\">\n",
              "      <div>\n",
              "<style scoped>\n",
              "    .dataframe tbody tr th:only-of-type {\n",
              "        vertical-align: middle;\n",
              "    }\n",
              "\n",
              "    .dataframe tbody tr th {\n",
              "        vertical-align: top;\n",
              "    }\n",
              "\n",
              "    .dataframe thead th {\n",
              "        text-align: right;\n",
              "    }\n",
              "</style>\n",
              "<table border=\"1\" class=\"dataframe\">\n",
              "  <thead>\n",
              "    <tr style=\"text-align: right;\">\n",
              "      <th>gene</th>\n",
              "      <th>Genome ID</th>\n",
              "      <th>adeA</th>\n",
              "      <th>adeB</th>\n",
              "      <th>adeC</th>\n",
              "      <th>adeR</th>\n",
              "      <th>adeS</th>\n",
              "      <th>Cluster ID</th>\n",
              "    </tr>\n",
              "  </thead>\n",
              "  <tbody>\n",
              "    <tr>\n",
              "      <th>25</th>\n",
              "      <td>470.10880</td>\n",
              "      <td>1</td>\n",
              "      <td>1</td>\n",
              "      <td>0</td>\n",
              "      <td>1</td>\n",
              "      <td>1</td>\n",
              "      <td>1</td>\n",
              "    </tr>\n",
              "    <tr>\n",
              "      <th>43</th>\n",
              "      <td>470.10898</td>\n",
              "      <td>1</td>\n",
              "      <td>1</td>\n",
              "      <td>0</td>\n",
              "      <td>1</td>\n",
              "      <td>1</td>\n",
              "      <td>1</td>\n",
              "    </tr>\n",
              "    <tr>\n",
              "      <th>45</th>\n",
              "      <td>470.10900</td>\n",
              "      <td>1</td>\n",
              "      <td>1</td>\n",
              "      <td>0</td>\n",
              "      <td>1</td>\n",
              "      <td>1</td>\n",
              "      <td>1</td>\n",
              "    </tr>\n",
              "    <tr>\n",
              "      <th>51</th>\n",
              "      <td>470.10906</td>\n",
              "      <td>1</td>\n",
              "      <td>1</td>\n",
              "      <td>0</td>\n",
              "      <td>1</td>\n",
              "      <td>1</td>\n",
              "      <td>1</td>\n",
              "    </tr>\n",
              "    <tr>\n",
              "      <th>52</th>\n",
              "      <td>470.10907</td>\n",
              "      <td>1</td>\n",
              "      <td>1</td>\n",
              "      <td>0</td>\n",
              "      <td>1</td>\n",
              "      <td>1</td>\n",
              "      <td>1</td>\n",
              "    </tr>\n",
              "  </tbody>\n",
              "</table>\n",
              "</div>\n",
              "      <button class=\"colab-df-convert\" onclick=\"convertToInteractive('df-90675977-9297-4bfd-b110-7b9f44b2192a')\"\n",
              "              title=\"Convert this dataframe to an interactive table.\"\n",
              "              style=\"display:none;\">\n",
              "        \n",
              "  <svg xmlns=\"http://www.w3.org/2000/svg\" height=\"24px\"viewBox=\"0 0 24 24\"\n",
              "       width=\"24px\">\n",
              "    <path d=\"M0 0h24v24H0V0z\" fill=\"none\"/>\n",
              "    <path d=\"M18.56 5.44l.94 2.06.94-2.06 2.06-.94-2.06-.94-.94-2.06-.94 2.06-2.06.94zm-11 1L8.5 8.5l.94-2.06 2.06-.94-2.06-.94L8.5 2.5l-.94 2.06-2.06.94zm10 10l.94 2.06.94-2.06 2.06-.94-2.06-.94-.94-2.06-.94 2.06-2.06.94z\"/><path d=\"M17.41 7.96l-1.37-1.37c-.4-.4-.92-.59-1.43-.59-.52 0-1.04.2-1.43.59L10.3 9.45l-7.72 7.72c-.78.78-.78 2.05 0 2.83L4 21.41c.39.39.9.59 1.41.59.51 0 1.02-.2 1.41-.59l7.78-7.78 2.81-2.81c.8-.78.8-2.07 0-2.86zM5.41 20L4 18.59l7.72-7.72 1.47 1.35L5.41 20z\"/>\n",
              "  </svg>\n",
              "      </button>\n",
              "      \n",
              "  <style>\n",
              "    .colab-df-container {\n",
              "      display:flex;\n",
              "      flex-wrap:wrap;\n",
              "      gap: 12px;\n",
              "    }\n",
              "\n",
              "    .colab-df-convert {\n",
              "      background-color: #E8F0FE;\n",
              "      border: none;\n",
              "      border-radius: 50%;\n",
              "      cursor: pointer;\n",
              "      display: none;\n",
              "      fill: #1967D2;\n",
              "      height: 32px;\n",
              "      padding: 0 0 0 0;\n",
              "      width: 32px;\n",
              "    }\n",
              "\n",
              "    .colab-df-convert:hover {\n",
              "      background-color: #E2EBFA;\n",
              "      box-shadow: 0px 1px 2px rgba(60, 64, 67, 0.3), 0px 1px 3px 1px rgba(60, 64, 67, 0.15);\n",
              "      fill: #174EA6;\n",
              "    }\n",
              "\n",
              "    [theme=dark] .colab-df-convert {\n",
              "      background-color: #3B4455;\n",
              "      fill: #D2E3FC;\n",
              "    }\n",
              "\n",
              "    [theme=dark] .colab-df-convert:hover {\n",
              "      background-color: #434B5C;\n",
              "      box-shadow: 0px 1px 3px 1px rgba(0, 0, 0, 0.15);\n",
              "      filter: drop-shadow(0px 1px 2px rgba(0, 0, 0, 0.3));\n",
              "      fill: #FFFFFF;\n",
              "    }\n",
              "  </style>\n",
              "\n",
              "      <script>\n",
              "        const buttonEl =\n",
              "          document.querySelector('#df-90675977-9297-4bfd-b110-7b9f44b2192a button.colab-df-convert');\n",
              "        buttonEl.style.display =\n",
              "          google.colab.kernel.accessAllowed ? 'block' : 'none';\n",
              "\n",
              "        async function convertToInteractive(key) {\n",
              "          const element = document.querySelector('#df-90675977-9297-4bfd-b110-7b9f44b2192a');\n",
              "          const dataTable =\n",
              "            await google.colab.kernel.invokeFunction('convertToInteractive',\n",
              "                                                     [key], {});\n",
              "          if (!dataTable) return;\n",
              "\n",
              "          const docLinkHtml = 'Like what you see? Visit the ' +\n",
              "            '<a target=\"_blank\" href=https://colab.research.google.com/notebooks/data_table.ipynb>data table notebook</a>'\n",
              "            + ' to learn more about interactive tables.';\n",
              "          element.innerHTML = '';\n",
              "          dataTable['output_type'] = 'display_data';\n",
              "          await google.colab.output.renderOutput(dataTable, element);\n",
              "          const docLink = document.createElement('div');\n",
              "          docLink.innerHTML = docLinkHtml;\n",
              "          element.appendChild(docLink);\n",
              "        }\n",
              "      </script>\n",
              "    </div>\n",
              "  </div>\n",
              "  "
            ]
          },
          "metadata": {},
          "execution_count": 108
        }
      ],
      "source": [
        "cluster1.head()"
      ]
    },
    {
      "cell_type": "code",
      "execution_count": null,
      "metadata": {
        "id": "tkJAcgGrEvsc"
      },
      "outputs": [],
      "source": [
        "import scipy as sp\n",
        "from scipy import cluster\n",
        "from scipy.cluster import hierarchy"
      ]
    },
    {
      "cell_type": "code",
      "execution_count": null,
      "metadata": {
        "colab": {
          "base_uri": "https://localhost:8080/",
          "height": 265
        },
        "id": "84GS3Wuw78k2",
        "outputId": "f794b654-0ef0-467b-ddb2-56426d350848"
      },
      "outputs": [
        {
          "output_type": "display_data",
          "data": {
            "text/plain": [
              "<Figure size 432x288 with 1 Axes>"
            ],
            "image/png": "[encoded data removed]"
          },
          "metadata": {
            "needs_background": "light"
          }
        }
      ],
      "source": [
        "hcl1 = hierarchy.linkage(df, method=\"single\", metric='euclidean')\n",
        "hierarchy.dendrogram(hcl1)\n",
        "plt.show()"
      ]
    },
    {
      "cell_type": "code",
      "execution_count": null,
      "metadata": {
        "colab": {
          "base_uri": "https://localhost:8080/",
          "height": 265
        },
        "id": "EFuiSe3mF3Cs",
        "outputId": "f584c34f-46de-410d-9750-f1908676ac61"
      },
      "outputs": [
        {
          "output_type": "display_data",
          "data": {
            "text/plain": [
              "<Figure size 432x288 with 1 Axes>"
            ],
            "image/png": "[encoded data removed]"
          },
          "metadata": {
            "needs_background": "light"
          }
        }
      ],
      "source": [
        "hcl2 = hierarchy.linkage(df, method=\"complete\", metric='euclidean')\n",
        "hierarchy.dendrogram(hcl2)\n",
        "plt.show()"
      ]
    },
    {
      "cell_type": "code",
      "execution_count": null,
      "metadata": {
        "colab": {
          "base_uri": "https://localhost:8080/",
          "height": 265
        },
        "id": "va8MJVTyGKO5",
        "outputId": "985bc3f9-5402-4b42-f046-80d8acdcb81c"
      },
      "outputs": [
        {
          "output_type": "display_data",
          "data": {
            "text/plain": [
              "<Figure size 432x288 with 1 Axes>"
            ],
            "image/png": "[encoded data removed]"
          },
          "metadata": {
            "needs_background": "light"
          }
        }
      ],
      "source": [
        "hcl3 = hierarchy.linkage(df, method=\"average\", metric='euclidean')\n",
        "hierarchy.dendrogram(hcl2)\n",
        "plt.show()"
      ]
    },
    {
      "cell_type": "code",
      "execution_count": null,
      "metadata": {
        "colab": {
          "base_uri": "https://localhost:8080/"
        },
        "id": "WtARXF1hK_su",
        "outputId": "fde6d655-768f-4e47-fab6-1842e6862dcd"
      },
      "outputs": [
        {
          "output_type": "execute_result",
          "data": {
            "text/plain": [
              "array([0, 0, 0, 0, 0, 0, 0, 0, 0, 0, 0, 0, 0, 0, 0, 0, 0, 0, 0, 0, 0, 0,\n",
              "       0, 0, 0, 0, 0, 0, 0, 0, 0, 0, 0, 0, 0, 0, 0, 0, 0, 0, 0, 0, 0, 0,\n",
              "       0, 0, 0, 0, 0, 0, 0, 0, 0, 1, 0, 0, 0, 0, 0, 0, 0, 0, 0, 0, 0, 0,\n",
              "       0, 0, 0, 0, 0, 0, 0, 0, 0, 0, 0, 0, 0, 0, 0, 0, 0, 0, 0, 0, 0, 0,\n",
              "       0, 0, 0, 0, 0, 0, 0, 0, 0, 0, 0, 0, 0, 0, 0, 0, 0, 0, 0, 0, 0, 0,\n",
              "       0, 0, 0, 0, 0, 0, 0, 0, 0, 0, 0, 0, 0, 0, 0, 0, 0, 0, 0, 0, 0, 0,\n",
              "       0, 0, 0, 0, 0, 0, 0, 0, 0, 0, 0, 0, 1, 0, 0, 0, 0, 0, 0, 0, 0, 0,\n",
              "       0, 0, 0, 0, 0, 0, 0, 0, 0, 0, 0, 0, 0, 0, 0, 0, 0, 0, 0, 0, 0, 0,\n",
              "       0, 0, 0, 0, 0, 0, 0, 0, 0, 0, 0, 0, 0, 0, 0, 0, 0, 0, 0, 0, 0, 0,\n",
              "       0, 0, 0, 1, 0, 0, 0, 0, 0, 0, 0, 0, 0, 0, 0, 0, 0, 0, 0, 0, 0, 0,\n",
              "       0, 0, 0, 0, 0, 0, 0, 0, 0, 0, 0, 0, 0, 0, 0, 0, 0, 0, 1, 0, 0, 0,\n",
              "       0, 0, 0, 0, 0, 0, 0, 0, 0, 0, 0, 0, 0, 0, 0, 0, 0, 0, 0, 0, 0, 0,\n",
              "       0, 0, 0, 0, 0, 0, 0, 0, 0, 0, 0, 0, 0, 0, 0, 0, 1, 0, 0, 0, 0, 0,\n",
              "       0, 0, 0, 0, 0, 0, 0, 0, 0, 0, 0, 0, 0, 0, 0, 0, 0, 0, 0, 0, 2, 0,\n",
              "       0, 0, 3, 0, 0, 0, 2, 0, 0, 0, 2, 3, 0, 0, 0])"
            ]
          },
          "metadata": {},
          "execution_count": 113
        }
      ],
      "source": [
        "cluster_labels = hierarchy.cut_tree(hcl1, n_clusters=4).reshape(-1, )\n",
        "cluster_labels"
      ]
    },
    {
      "cell_type": "code",
      "execution_count": null,
      "metadata": {
        "colab": {
          "base_uri": "https://localhost:8080/",
          "height": 206
        },
        "id": "U5AE_uYcQOdk",
        "outputId": "4a254a4d-189b-42a5-c661-153496feff37"
      },
      "outputs": [
        {
          "output_type": "execute_result",
          "data": {
            "text/plain": [
              "gene  Genome ID  adeA  adeB  adeC  adeR  adeS  Cluster ID  Cluster_Labels\n",
              "0     470.10855     1     1     1     1     1           0               0\n",
              "1     470.10856     1     1     1     1     1           0               0\n",
              "2     470.10857     1     1     1     1     1           0               0\n",
              "3     470.10858     1     1     1     1     1           0               0\n",
              "4     470.10859     1     1     1     1     1           0               0"
            ],
            "text/html": [
              "\n",
              "  <div id=\"df-c40c2c24-1e27-4a62-abdb-2984f43d1495\">\n",
              "    <div class=\"colab-df-container\">\n",
              "      <div>\n",
              "<style scoped>\n",
              "    .dataframe tbody tr th:only-of-type {\n",
              "        vertical-align: middle;\n",
              "    }\n",
              "\n",
              "    .dataframe tbody tr th {\n",
              "        vertical-align: top;\n",
              "    }\n",
              "\n",
              "    .dataframe thead th {\n",
              "        text-align: right;\n",
              "    }\n",
              "</style>\n",
              "<table border=\"1\" class=\"dataframe\">\n",
              "  <thead>\n",
              "    <tr style=\"text-align: right;\">\n",
              "      <th>gene</th>\n",
              "      <th>Genome ID</th>\n",
              "      <th>adeA</th>\n",
              "      <th>adeB</th>\n",
              "      <th>adeC</th>\n",
              "      <th>adeR</th>\n",
              "      <th>adeS</th>\n",
              "      <th>Cluster ID</th>\n",
              "      <th>Cluster_Labels</th>\n",
              "    </tr>\n",
              "  </thead>\n",
              "  <tbody>\n",
              "    <tr>\n",
              "      <th>0</th>\n",
              "      <td>470.10855</td>\n",
              "      <td>1</td>\n",
              "      <td>1</td>\n",
              "      <td>1</td>\n",
              "      <td>1</td>\n",
              "      <td>1</td>\n",
              "      <td>0</td>\n",
              "      <td>0</td>\n",
              "    </tr>\n",
              "    <tr>\n",
              "      <th>1</th>\n",
              "      <td>470.10856</td>\n",
              "      <td>1</td>\n",
              "      <td>1</td>\n",
              "      <td>1</td>\n",
              "      <td>1</td>\n",
              "      <td>1</td>\n",
              "      <td>0</td>\n",
              "      <td>0</td>\n",
              "    </tr>\n",
              "    <tr>\n",
              "      <th>2</th>\n",
              "      <td>470.10857</td>\n",
              "      <td>1</td>\n",
              "      <td>1</td>\n",
              "      <td>1</td>\n",
              "      <td>1</td>\n",
              "      <td>1</td>\n",
              "      <td>0</td>\n",
              "      <td>0</td>\n",
              "    </tr>\n",
              "    <tr>\n",
              "      <th>3</th>\n",
              "      <td>470.10858</td>\n",
              "      <td>1</td>\n",
              "      <td>1</td>\n",
              "      <td>1</td>\n",
              "      <td>1</td>\n",
              "      <td>1</td>\n",
              "      <td>0</td>\n",
              "      <td>0</td>\n",
              "    </tr>\n",
              "    <tr>\n",
              "      <th>4</th>\n",
              "      <td>470.10859</td>\n",
              "      <td>1</td>\n",
              "      <td>1</td>\n",
              "      <td>1</td>\n",
              "      <td>1</td>\n",
              "      <td>1</td>\n",
              "      <td>0</td>\n",
              "      <td>0</td>\n",
              "    </tr>\n",
              "  </tbody>\n",
              "</table>\n",
              "</div>\n",
              "      <button class=\"colab-df-convert\" onclick=\"convertToInteractive('df-c40c2c24-1e27-4a62-abdb-2984f43d1495')\"\n",
              "              title=\"Convert this dataframe to an interactive table.\"\n",
              "              style=\"display:none;\">\n",
              "        \n",
              "  <svg xmlns=\"http://www.w3.org/2000/svg\" height=\"24px\"viewBox=\"0 0 24 24\"\n",
              "       width=\"24px\">\n",
              "    <path d=\"M0 0h24v24H0V0z\" fill=\"none\"/>\n",
              "    <path d=\"M18.56 5.44l.94 2.06.94-2.06 2.06-.94-2.06-.94-.94-2.06-.94 2.06-2.06.94zm-11 1L8.5 8.5l.94-2.06 2.06-.94-2.06-.94L8.5 2.5l-.94 2.06-2.06.94zm10 10l.94 2.06.94-2.06 2.06-.94-2.06-.94-.94-2.06-.94 2.06-2.06.94z\"/><path d=\"M17.41 7.96l-1.37-1.37c-.4-.4-.92-.59-1.43-.59-.52 0-1.04.2-1.43.59L10.3 9.45l-7.72 7.72c-.78.78-.78 2.05 0 2.83L4 21.41c.39.39.9.59 1.41.59.51 0 1.02-.2 1.41-.59l7.78-7.78 2.81-2.81c.8-.78.8-2.07 0-2.86zM5.41 20L4 18.59l7.72-7.72 1.47 1.35L5.41 20z\"/>\n",
              "  </svg>\n",
              "      </button>\n",
              "      \n",
              "  <style>\n",
              "    .colab-df-container {\n",
              "      display:flex;\n",
              "      flex-wrap:wrap;\n",
              "      gap: 12px;\n",
              "    }\n",
              "\n",
              "    .colab-df-convert {\n",
              "      background-color: #E8F0FE;\n",
              "      border: none;\n",
              "      border-radius: 50%;\n",
              "      cursor: pointer;\n",
              "      display: none;\n",
              "      fill: #1967D2;\n",
              "      height: 32px;\n",
              "      padding: 0 0 0 0;\n",
              "      width: 32px;\n",
              "    }\n",
              "\n",
              "    .colab-df-convert:hover {\n",
              "      background-color: #E2EBFA;\n",
              "      box-shadow: 0px 1px 2px rgba(60, 64, 67, 0.3), 0px 1px 3px 1px rgba(60, 64, 67, 0.15);\n",
              "      fill: #174EA6;\n",
              "    }\n",
              "\n",
              "    [theme=dark] .colab-df-convert {\n",
              "      background-color: #3B4455;\n",
              "      fill: #D2E3FC;\n",
              "    }\n",
              "\n",
              "    [theme=dark] .colab-df-convert:hover {\n",
              "      background-color: #434B5C;\n",
              "      box-shadow: 0px 1px 3px 1px rgba(0, 0, 0, 0.15);\n",
              "      filter: drop-shadow(0px 1px 2px rgba(0, 0, 0, 0.3));\n",
              "      fill: #FFFFFF;\n",
              "    }\n",
              "  </style>\n",
              "\n",
              "      <script>\n",
              "        const buttonEl =\n",
              "          document.querySelector('#df-c40c2c24-1e27-4a62-abdb-2984f43d1495 button.colab-df-convert');\n",
              "        buttonEl.style.display =\n",
              "          google.colab.kernel.accessAllowed ? 'block' : 'none';\n",
              "\n",
              "        async function convertToInteractive(key) {\n",
              "          const element = document.querySelector('#df-c40c2c24-1e27-4a62-abdb-2984f43d1495');\n",
              "          const dataTable =\n",
              "            await google.colab.kernel.invokeFunction('convertToInteractive',\n",
              "                                                     [key], {});\n",
              "          if (!dataTable) return;\n",
              "\n",
              "          const docLinkHtml = 'Like what you see? Visit the ' +\n",
              "            '<a target=\"_blank\" href=https://colab.research.google.com/notebooks/data_table.ipynb>data table notebook</a>'\n",
              "            + ' to learn more about interactive tables.';\n",
              "          element.innerHTML = '';\n",
              "          dataTable['output_type'] = 'display_data';\n",
              "          await google.colab.output.renderOutput(dataTable, element);\n",
              "          const docLink = document.createElement('div');\n",
              "          docLink.innerHTML = docLinkHtml;\n",
              "          element.appendChild(docLink);\n",
              "        }\n",
              "      </script>\n",
              "    </div>\n",
              "  </div>\n",
              "  "
            ]
          },
          "metadata": {},
          "execution_count": 114
        }
      ],
      "source": [
        "df['Cluster_Labels'] = cluster_labels\n",
        "df.head()"
      ]
    },
    {
      "cell_type": "code",
      "execution_count": null,
      "metadata": {
        "id": "wzis6celQcps"
      },
      "outputs": [],
      "source": [
        "hierar2=df[df['Cluster_Labels'].values==2]\n",
        "hierar0=df[df['Cluster_Labels'].values==0]\n",
        "hierar1=df[df['Cluster_Labels'].values==1]\n",
        "hierar3=df[df['Cluster_Labels'].values==3]"
      ]
    },
    {
      "cell_type": "code",
      "execution_count": null,
      "metadata": {
        "colab": {
          "base_uri": "https://localhost:8080/",
          "height": 449
        },
        "id": "3ChLfDPIQrns",
        "outputId": "4df55adc-56cf-4fab-a125-eba7c3e6c0aa"
      },
      "outputs": [
        {
          "output_type": "stream",
          "name": "stdout",
          "text": [
            "gene  Genome ID  adeA  adeB  adeC  adeR  adeS  Cluster ID  Cluster_Labels\n",
            "0     470.10855     1     1     1     1     1           0               0\n",
            "1     470.10856     1     1     1     1     1           0               0\n",
            "2     470.10857     1     1     1     1     1           0               0\n",
            "3     470.10858     1     1     1     1     1           0               0\n",
            "4     470.10859     1     1     1     1     1           0               0\n",
            "..          ...   ...   ...   ...   ...   ...         ...             ...\n",
            "316    470.9344     1     1     0     1     1           1               0\n",
            "317    470.9345     1     1     1     1     1           0               0\n",
            "320    470.9348     1     1     1     1     1           0               0\n",
            "321    470.9411     1     1     1     1     1           0               0\n",
            "322    470.9416     1     1     1     1     1           0               0\n",
            "\n",
            "[313 rows x 8 columns]\n"
          ]
        },
        {
          "output_type": "execute_result",
          "data": {
            "text/plain": [
              "gene Genome ID  adeA  adeB  adeC  adeR  adeS  Cluster ID  Cluster_Labels\n",
              "316   470.9344     1     1     0     1     1           1               0\n",
              "317   470.9345     1     1     1     1     1           0               0\n",
              "320   470.9348     1     1     1     1     1           0               0\n",
              "321   470.9411     1     1     1     1     1           0               0\n",
              "322   470.9416     1     1     1     1     1           0               0"
            ],
            "text/html": [
              "\n",
              "  <div id=\"df-62334d37-1c9b-4d8b-b53f-3c85a6a9343e\">\n",
              "    <div class=\"colab-df-container\">\n",
              "      <div>\n",
              "<style scoped>\n",
              "    .dataframe tbody tr th:only-of-type {\n",
              "        vertical-align: middle;\n",
              "    }\n",
              "\n",
              "    .dataframe tbody tr th {\n",
              "        vertical-align: top;\n",
              "    }\n",
              "\n",
              "    .dataframe thead th {\n",
              "        text-align: right;\n",
              "    }\n",
              "</style>\n",
              "<table border=\"1\" class=\"dataframe\">\n",
              "  <thead>\n",
              "    <tr style=\"text-align: right;\">\n",
              "      <th>gene</th>\n",
              "      <th>Genome ID</th>\n",
              "      <th>adeA</th>\n",
              "      <th>adeB</th>\n",
              "      <th>adeC</th>\n",
              "      <th>adeR</th>\n",
              "      <th>adeS</th>\n",
              "      <th>Cluster ID</th>\n",
              "      <th>Cluster_Labels</th>\n",
              "    </tr>\n",
              "  </thead>\n",
              "  <tbody>\n",
              "    <tr>\n",
              "      <th>316</th>\n",
              "      <td>470.9344</td>\n",
              "      <td>1</td>\n",
              "      <td>1</td>\n",
              "      <td>0</td>\n",
              "      <td>1</td>\n",
              "      <td>1</td>\n",
              "      <td>1</td>\n",
              "      <td>0</td>\n",
              "    </tr>\n",
              "    <tr>\n",
              "      <th>317</th>\n",
              "      <td>470.9345</td>\n",
              "      <td>1</td>\n",
              "      <td>1</td>\n",
              "      <td>1</td>\n",
              "      <td>1</td>\n",
              "      <td>1</td>\n",
              "      <td>0</td>\n",
              "      <td>0</td>\n",
              "    </tr>\n",
              "    <tr>\n",
              "      <th>320</th>\n",
              "      <td>470.9348</td>\n",
              "      <td>1</td>\n",
              "      <td>1</td>\n",
              "      <td>1</td>\n",
              "      <td>1</td>\n",
              "      <td>1</td>\n",
              "      <td>0</td>\n",
              "      <td>0</td>\n",
              "    </tr>\n",
              "    <tr>\n",
              "      <th>321</th>\n",
              "      <td>470.9411</td>\n",
              "      <td>1</td>\n",
              "      <td>1</td>\n",
              "      <td>1</td>\n",
              "      <td>1</td>\n",
              "      <td>1</td>\n",
              "      <td>0</td>\n",
              "      <td>0</td>\n",
              "    </tr>\n",
              "    <tr>\n",
              "      <th>322</th>\n",
              "      <td>470.9416</td>\n",
              "      <td>1</td>\n",
              "      <td>1</td>\n",
              "      <td>1</td>\n",
              "      <td>1</td>\n",
              "      <td>1</td>\n",
              "      <td>0</td>\n",
              "      <td>0</td>\n",
              "    </tr>\n",
              "  </tbody>\n",
              "</table>\n",
              "</div>\n",
              "      <button class=\"colab-df-convert\" onclick=\"convertToInteractive('df-62334d37-1c9b-4d8b-b53f-3c85a6a9343e')\"\n",
              "              title=\"Convert this dataframe to an interactive table.\"\n",
              "              style=\"display:none;\">\n",
              "        \n",
              "  <svg xmlns=\"http://www.w3.org/2000/svg\" height=\"24px\"viewBox=\"0 0 24 24\"\n",
              "       width=\"24px\">\n",
              "    <path d=\"M0 0h24v24H0V0z\" fill=\"none\"/>\n",
              "    <path d=\"M18.56 5.44l.94 2.06.94-2.06 2.06-.94-2.06-.94-.94-2.06-.94 2.06-2.06.94zm-11 1L8.5 8.5l.94-2.06 2.06-.94-2.06-.94L8.5 2.5l-.94 2.06-2.06.94zm10 10l.94 2.06.94-2.06 2.06-.94-2.06-.94-.94-2.06-.94 2.06-2.06.94z\"/><path d=\"M17.41 7.96l-1.37-1.37c-.4-.4-.92-.59-1.43-.59-.52 0-1.04.2-1.43.59L10.3 9.45l-7.72 7.72c-.78.78-.78 2.05 0 2.83L4 21.41c.39.39.9.59 1.41.59.51 0 1.02-.2 1.41-.59l7.78-7.78 2.81-2.81c.8-.78.8-2.07 0-2.86zM5.41 20L4 18.59l7.72-7.72 1.47 1.35L5.41 20z\"/>\n",
              "  </svg>\n",
              "      </button>\n",
              "      \n",
              "  <style>\n",
              "    .colab-df-container {\n",
              "      display:flex;\n",
              "      flex-wrap:wrap;\n",
              "      gap: 12px;\n",
              "    }\n",
              "\n",
              "    .colab-df-convert {\n",
              "      background-color: #E8F0FE;\n",
              "      border: none;\n",
              "      border-radius: 50%;\n",
              "      cursor: pointer;\n",
              "      display: none;\n",
              "      fill: #1967D2;\n",
              "      height: 32px;\n",
              "      padding: 0 0 0 0;\n",
              "      width: 32px;\n",
              "    }\n",
              "\n",
              "    .colab-df-convert:hover {\n",
              "      background-color: #E2EBFA;\n",
              "      box-shadow: 0px 1px 2px rgba(60, 64, 67, 0.3), 0px 1px 3px 1px rgba(60, 64, 67, 0.15);\n",
              "      fill: #174EA6;\n",
              "    }\n",
              "\n",
              "    [theme=dark] .colab-df-convert {\n",
              "      background-color: #3B4455;\n",
              "      fill: #D2E3FC;\n",
              "    }\n",
              "\n",
              "    [theme=dark] .colab-df-convert:hover {\n",
              "      background-color: #434B5C;\n",
              "      box-shadow: 0px 1px 3px 1px rgba(0, 0, 0, 0.15);\n",
              "      filter: drop-shadow(0px 1px 2px rgba(0, 0, 0, 0.3));\n",
              "      fill: #FFFFFF;\n",
              "    }\n",
              "  </style>\n",
              "\n",
              "      <script>\n",
              "        const buttonEl =\n",
              "          document.querySelector('#df-62334d37-1c9b-4d8b-b53f-3c85a6a9343e button.colab-df-convert');\n",
              "        buttonEl.style.display =\n",
              "          google.colab.kernel.accessAllowed ? 'block' : 'none';\n",
              "\n",
              "        async function convertToInteractive(key) {\n",
              "          const element = document.querySelector('#df-62334d37-1c9b-4d8b-b53f-3c85a6a9343e');\n",
              "          const dataTable =\n",
              "            await google.colab.kernel.invokeFunction('convertToInteractive',\n",
              "                                                     [key], {});\n",
              "          if (!dataTable) return;\n",
              "\n",
              "          const docLinkHtml = 'Like what you see? Visit the ' +\n",
              "            '<a target=\"_blank\" href=https://colab.research.google.com/notebooks/data_table.ipynb>data table notebook</a>'\n",
              "            + ' to learn more about interactive tables.';\n",
              "          element.innerHTML = '';\n",
              "          dataTable['output_type'] = 'display_data';\n",
              "          await google.colab.output.renderOutput(dataTable, element);\n",
              "          const docLink = document.createElement('div');\n",
              "          docLink.innerHTML = docLinkHtml;\n",
              "          element.appendChild(docLink);\n",
              "        }\n",
              "      </script>\n",
              "    </div>\n",
              "  </div>\n",
              "  "
            ]
          },
          "metadata": {},
          "execution_count": 116
        }
      ],
      "source": [
        "print(hierar0)\n",
        "hierar0.tail()"
      ]
    },
    {
      "cell_type": "code",
      "execution_count": null,
      "metadata": {
        "colab": {
          "base_uri": "https://localhost:8080/"
        },
        "id": "rpeb62SPQuTa",
        "outputId": "d62bd8c4-43f8-4af5-9c25-4036431bd1a5"
      },
      "outputs": [
        {
          "output_type": "stream",
          "name": "stdout",
          "text": [
            "gene  Genome ID  adeA  adeB  adeC  adeR  adeS  Cluster ID  Cluster_Labels\n",
            "53    470.10908     1     1     1     0     0           3               1\n",
            "144   470.11021     1     1     1     0     0           3               1\n",
            "201   470.11492     1     1     1     0     0           3               1\n",
            "238   470.13193     1     1     1     0     0           3               1\n",
            "280   470.13235     1     1     1     0     0           3               1\n"
          ]
        }
      ],
      "source": [
        "print(hierar1)"
      ]
    },
    {
      "cell_type": "code",
      "execution_count": null,
      "metadata": {
        "colab": {
          "base_uri": "https://localhost:8080/"
        },
        "id": "I6HoNr1sQ2Rt",
        "outputId": "79c4919c-f280-4699-8ce6-23da13515f7f"
      },
      "outputs": [
        {
          "output_type": "stream",
          "name": "stdout",
          "text": [
            "gene Genome ID  adeA  adeB  adeC  adeR  adeS  Cluster ID  Cluster_Labels\n",
            "306   470.8415     0     0     0     0     1           2               2\n",
            "314   470.9342     0     0     0     0     1           2               2\n",
            "318   470.9346     0     0     0     0     1           2               2\n"
          ]
        }
      ],
      "source": [
        "print(hierar2)"
      ]
    },
    {
      "cell_type": "code",
      "execution_count": null,
      "metadata": {
        "id": "ymyoW6gJsE_z",
        "colab": {
          "base_uri": "https://localhost:8080/"
        },
        "outputId": "75f83318-ce20-48b7-d847-ae709f27edbd"
      },
      "outputs": [
        {
          "output_type": "stream",
          "name": "stdout",
          "text": [
            "gene Genome ID  adeA  adeB  adeC  adeR  adeS  Cluster ID  Cluster_Labels\n",
            "310   470.8428     0     1     1     0     1           2               3\n",
            "319   470.9347     0     1     1     0     1           2               3\n"
          ]
        }
      ],
      "source": [
        "print(hierar3)"
      ]
    },
    {
      "cell_type": "code",
      "execution_count": null,
      "metadata": {
        "id": "zPTtBZQDfv1g",
        "colab": {
          "base_uri": "https://localhost:8080/"
        },
        "outputId": "bc751e28-d850-4554-fe4e-3ac63f835a2c"
      },
      "outputs": [
        {
          "output_type": "stream",
          "name": "stdout",
          "text": [
            "gene  Genome ID  adeA  adeB  adeC  adeR  adeS  Cluster_Labels\n",
            "0     470.10855     1     1     1     1     1               0\n",
            "1     470.10856     1     1     1     1     1               0\n",
            "2     470.10857     1     1     1     1     1               0\n",
            "3     470.10858     1     1     1     1     1               0\n",
            "4     470.10859     1     1     1     1     1               0\n",
            "..          ...   ...   ...   ...   ...   ...             ...\n",
            "306    470.8415     0     0     0     0     1               2\n",
            "314    470.9342     0     0     0     0     1               2\n",
            "318    470.9346     0     0     0     0     1               2\n",
            "310    470.8428     0     1     1     0     1               3\n",
            "319    470.9347     0     1     1     0     1               3\n",
            "\n",
            "[323 rows x 7 columns]\n"
          ]
        }
      ],
      "source": [
        "new=pd.concat([hierar0,hierar1,hierar2,hierar3])\n",
        "new=new.drop('Cluster ID', axis=1)\n",
        "print(new)"
      ]
    },
    {
      "cell_type": "code",
      "execution_count": null,
      "metadata": {
        "id": "vABjakQchvm7",
        "colab": {
          "base_uri": "https://localhost:8080/"
        },
        "outputId": "97811bd3-6bf7-4a46-8cdf-964b01890652"
      },
      "outputs": [
        {
          "output_type": "stream",
          "name": "stdout",
          "text": [
            "     Genome ID            Antibiotic Resistant Phenotype\n",
            "0    470.11012            carbapenem           Resistant\n",
            "1    470.11486            carbapenem           Resistant\n",
            "2    470.10884            carbapenem           Resistant\n",
            "3    470.10891            carbapenem           Resistant\n",
            "4    470.10876            carbapenem         Susceptible\n",
            "..         ...                   ...                 ...\n",
            "535  470.93410             meropenem           Resistant\n",
            "536  470.13240            carbapenem           Resistant\n",
            "537  470.93430             aztreonam           Resistant\n",
            "538  470.10944            carbapenem         Susceptible\n",
            "539  470.93480  ampicillin/sulbactam           Resistant\n",
            "\n",
            "[540 rows x 3 columns]\n",
            "<class 'pandas.core.frame.DataFrame'>\n",
            "RangeIndex: 540 entries, 0 to 539\n",
            "Data columns (total 3 columns):\n",
            " #   Column               Non-Null Count  Dtype  \n",
            "---  ------               --------------  -----  \n",
            " 0   Genome ID            540 non-null    float64\n",
            " 1   Antibiotic           540 non-null    object \n",
            " 2   Resistant Phenotype  500 non-null    object \n",
            "dtypes: float64(1), object(2)\n",
            "memory usage: 12.8+ KB\n",
            "Antibiotic  2  ampicillin/sulbactam  aztreonam  carbapenem  cefepime  \\\n",
            "Genome ID                                                              \n",
            "2.0         2                     0          0           0         0   \n",
            "470.10855   0                     0          0           1         0   \n",
            "470.10856   0                     0          0           2         0   \n",
            "470.10857   0                     0          0           2         0   \n",
            "470.10858   0                     0          0           1         0   \n",
            "...        ..                   ...        ...         ...       ...   \n",
            "470.9346    0                     0          2           1         2   \n",
            "470.9347    0                     2          2           1         2   \n",
            "470.9348    0                     2          2           2         2   \n",
            "470.9411    0                     0          2           1         2   \n",
            "470.9416    0                     2          2           1         2   \n",
            "\n",
            "Antibiotic  cefotaxime  ceftriaxone  colistin  imipenem  meropenem  \\\n",
            "Genome ID                                                            \n",
            "2.0                  0            0         0         0          0   \n",
            "470.10855            0            0         0         0          0   \n",
            "470.10856            0            0         0         0          0   \n",
            "470.10857            0            0         0         0          0   \n",
            "470.10858            0            0         0         0          0   \n",
            "...                ...          ...       ...       ...        ...   \n",
            "470.9346             2            2         1         2          2   \n",
            "470.9347             2            2         1         2          2   \n",
            "470.9348             2            2         1         2          2   \n",
            "470.9411             2            2         1         2          2   \n",
            "470.9416             2            2         1         2          2   \n",
            "\n",
            "Antibiotic  minocycline  tobramycin  trimethoprim/sulfamethoxazole  \n",
            "Genome ID                                                           \n",
            "2.0                   0           0                              0  \n",
            "470.10855             0           0                              0  \n",
            "470.10856             0           0                              0  \n",
            "470.10857             0           0                              0  \n",
            "470.10858             0           0                              0  \n",
            "...                 ...         ...                            ...  \n",
            "470.9346              0           0                              2  \n",
            "470.9347              0           0                              2  \n",
            "470.9348              0           0                              2  \n",
            "470.9411              1           0                              2  \n",
            "470.9416              0           0                              2  \n",
            "\n",
            "[331 rows x 13 columns]\n",
            "<class 'pandas.core.frame.DataFrame'>\n",
            "Index: 331 entries, 2.0 to 470.9416\n",
            "Data columns (total 13 columns):\n",
            " #   Column                         Non-Null Count  Dtype\n",
            "---  ------                         --------------  -----\n",
            " 0   2                              331 non-null    int64\n",
            " 1   ampicillin/sulbactam           331 non-null    int64\n",
            " 2   aztreonam                      331 non-null    int64\n",
            " 3   carbapenem                     331 non-null    int64\n",
            " 4   cefepime                       331 non-null    int64\n",
            " 5   cefotaxime                     331 non-null    int64\n",
            " 6   ceftriaxone                    331 non-null    int64\n",
            " 7   colistin                       331 non-null    int64\n",
            " 8   imipenem                       331 non-null    int64\n",
            " 9   meropenem                      331 non-null    int64\n",
            " 10  minocycline                    331 non-null    int64\n",
            " 11  tobramycin                     331 non-null    int64\n",
            " 12  trimethoprim/sulfamethoxazole  331 non-null    int64\n",
            "dtypes: int64(13)\n",
            "memory usage: 36.2+ KB\n"
          ]
        }
      ],
      "source": [
        "#import pandas and csv file\n",
        "import pandas as pd\n",
        "df=pd.read_csv('/content/BVBRC_genome_amr(8).csv')\n",
        "#print(df)\n",
        "\n",
        "#select columns for new dataframe\n",
        "sel_col1=df.iloc[:,1:2]\n",
        "sel_col1\n",
        "sel_col2=df.iloc[:,3:4]\n",
        "sel_col2\n",
        "sel_col3=df.iloc[:,4:5]\n",
        "sel_col3\n",
        "#concat the new dataframe\n",
        "phenotype=pd.concat([sel_col1,sel_col2,sel_col3] , axis=1)\n",
        "#print table and check correct Genome ID values\n",
        "print(phenotype)\n",
        "phenotype.info()\n",
        "#change intermediate to Resistant\n",
        "phenotype.loc[phenotype['Resistant Phenotype'] == 'Intermediate'] = 'Resistant'\n",
        "phenotype=phenotype.replace('Resistant',2)\n",
        "phenotype=phenotype.replace('Susceptible',1)\n",
        "#use incase decimal in the ID is creating wrong IDs\n",
        "phenotype['Genome ID']=phenotype['Genome ID'].astype('str')\n",
        "#pivot to get table of genome vs antibiotic resistant phenotypes\n",
        "amr=phenotype.pivot_table(values='Resistant Phenotype', index='Genome ID', columns='Antibiotic', aggfunc='first', fill_value= 0)\n",
        "#print and check file\n",
        "print(amr)\n",
        "amr.info()"
      ]
    },
    {
      "cell_type": "code",
      "execution_count": null,
      "metadata": {
        "id": "HVUiknr3l1tt"
      },
      "outputs": [],
      "source": [
        "import pandas as pd\n",
        "\n",
        "cluster0=pd.merge(hierar0,amr, on='Genome ID', how='inner')\n",
        "cluster1=pd.merge(hierar1,amr, on='Genome ID', how='inner')\n",
        "cluster2=pd.merge(hierar2,amr, on='Genome ID', how='inner')\n",
        "cluster3=pd.merge(hierar3,amr, on='Genome ID', how='inner')"
      ]
    },
    {
      "cell_type": "code",
      "execution_count": null,
      "metadata": {
        "id": "OoYHfgWsmDOT",
        "colab": {
          "base_uri": "https://localhost:8080/"
        },
        "outputId": "209b8ba3-2868-4eec-e001-8b1f9eab74c7"
      },
      "outputs": [
        {
          "output_type": "stream",
          "name": "stdout",
          "text": [
            "     Genome ID  adeA  adeB  adeC  adeR  adeS  Cluster ID  Cluster_Labels  2  \\\n",
            "0    470.10855     1     1     1     1     1           0               0  0   \n",
            "1    470.10856     1     1     1     1     1           0               0  0   \n",
            "2    470.10857     1     1     1     1     1           0               0  0   \n",
            "3    470.10858     1     1     1     1     1           0               0  0   \n",
            "4    470.10859     1     1     1     1     1           0               0  0   \n",
            "..         ...   ...   ...   ...   ...   ...         ...             ... ..   \n",
            "276   470.9344     1     1     0     1     1           1               0  0   \n",
            "277   470.9345     1     1     1     1     1           0               0  0   \n",
            "278   470.9348     1     1     1     1     1           0               0  0   \n",
            "279   470.9411     1     1     1     1     1           0               0  0   \n",
            "280   470.9416     1     1     1     1     1           0               0  0   \n",
            "\n",
            "     ampicillin/sulbactam  ...  carbapenem  cefepime  cefotaxime  ceftriaxone  \\\n",
            "0                       0  ...           1         0           0            0   \n",
            "1                       0  ...           2         0           0            0   \n",
            "2                       0  ...           2         0           0            0   \n",
            "3                       0  ...           1         0           0            0   \n",
            "4                       0  ...           2         0           0            0   \n",
            "..                    ...  ...         ...       ...         ...          ...   \n",
            "276                     0  ...           1         2           2            2   \n",
            "277                     0  ...           1         2           2            2   \n",
            "278                     2  ...           2         2           2            2   \n",
            "279                     0  ...           1         2           2            2   \n",
            "280                     2  ...           1         2           2            2   \n",
            "\n",
            "     colistin  imipenem  meropenem  minocycline  tobramycin  \\\n",
            "0           0         0          0            0           0   \n",
            "1           0         0          0            0           0   \n",
            "2           0         0          0            0           0   \n",
            "3           0         0          0            0           0   \n",
            "4           0         0          0            0           0   \n",
            "..        ...       ...        ...          ...         ...   \n",
            "276         1         2          2            1           0   \n",
            "277         1         2          2            0           0   \n",
            "278         1         2          2            0           0   \n",
            "279         1         2          2            1           0   \n",
            "280         1         2          2            0           0   \n",
            "\n",
            "     trimethoprim/sulfamethoxazole  \n",
            "0                                0  \n",
            "1                                0  \n",
            "2                                0  \n",
            "3                                0  \n",
            "4                                0  \n",
            "..                             ...  \n",
            "276                              2  \n",
            "277                              2  \n",
            "278                              2  \n",
            "279                              2  \n",
            "280                              2  \n",
            "\n",
            "[281 rows x 21 columns]    Genome ID  adeA  adeB  adeC  adeR  adeS  Cluster ID  Cluster_Labels  2  \\\n",
            "0  470.10908     1     1     1     0     0           3               1  0   \n",
            "1  470.11021     1     1     1     0     0           3               1  0   \n",
            "2  470.11492     1     1     1     0     0           3               1  0   \n",
            "3  470.13193     1     1     1     0     0           3               1  0   \n",
            "4  470.13235     1     1     1     0     0           3               1  0   \n",
            "\n",
            "   ampicillin/sulbactam  ...  carbapenem  cefepime  cefotaxime  ceftriaxone  \\\n",
            "0                     0  ...           1         0           0            0   \n",
            "1                     0  ...           1         0           0            0   \n",
            "2                     0  ...           1         0           0            0   \n",
            "3                     0  ...           1         0           0            0   \n",
            "4                     0  ...           1         0           0            0   \n",
            "\n",
            "   colistin  imipenem  meropenem  minocycline  tobramycin  \\\n",
            "0         0         0          0            0           0   \n",
            "1         0         0          0            0           0   \n",
            "2         0         0          0            0           0   \n",
            "3         0         0          0            0           0   \n",
            "4         0         0          0            0           0   \n",
            "\n",
            "   trimethoprim/sulfamethoxazole  \n",
            "0                              0  \n",
            "1                              0  \n",
            "2                              0  \n",
            "3                              0  \n",
            "4                              0  \n",
            "\n",
            "[5 rows x 21 columns]   Genome ID  adeA  adeB  adeC  adeR  adeS  Cluster ID  Cluster_Labels  2  \\\n",
            "0  470.8415     0     0     0     0     1           2               2  0   \n",
            "1  470.9342     0     0     0     0     1           2               2  0   \n",
            "2  470.9346     0     0     0     0     1           2               2  0   \n",
            "\n",
            "   ampicillin/sulbactam  ...  carbapenem  cefepime  cefotaxime  ceftriaxone  \\\n",
            "0                     0  ...           1         0           0            0   \n",
            "1                     0  ...           1         2           2            2   \n",
            "2                     0  ...           1         2           2            2   \n",
            "\n",
            "   colistin  imipenem  meropenem  minocycline  tobramycin  \\\n",
            "0         0         0          0            0           0   \n",
            "1         1         2          2            0           0   \n",
            "2         1         2          2            0           0   \n",
            "\n",
            "   trimethoprim/sulfamethoxazole  \n",
            "0                              0  \n",
            "1                              2  \n",
            "2                              2  \n",
            "\n",
            "[3 rows x 21 columns]   Genome ID  adeA  adeB  adeC  adeR  adeS  Cluster ID  Cluster_Labels  2  \\\n",
            "0  470.8428     0     1     1     0     1           2               3  0   \n",
            "1  470.9347     0     1     1     0     1           2               3  0   \n",
            "\n",
            "   ampicillin/sulbactam  ...  carbapenem  cefepime  cefotaxime  ceftriaxone  \\\n",
            "0                     0  ...           1         0           0            0   \n",
            "1                     2  ...           1         2           2            2   \n",
            "\n",
            "   colistin  imipenem  meropenem  minocycline  tobramycin  \\\n",
            "0         0         0          0            0           0   \n",
            "1         1         2          2            0           0   \n",
            "\n",
            "   trimethoprim/sulfamethoxazole  \n",
            "0                              0  \n",
            "1                              2  \n",
            "\n",
            "[2 rows x 21 columns]\n"
          ]
        }
      ],
      "source": [
        "print(cluster0,cluster1,cluster2,cluster3)"
      ]
    },
    {
      "cell_type": "code",
      "execution_count": null,
      "metadata": {
        "id": "_iUFMf-omKV6"
      },
      "outputs": [],
      "source": [
        "new=pd.concat([cluster0,cluster1,cluster2,cluster3])\n",
        "new=new.drop(['Cluster ID'], axis=1)"
      ]
    },
    {
      "cell_type": "code",
      "execution_count": null,
      "metadata": {
        "colab": {
          "base_uri": "https://localhost:8080/"
        },
        "id": "ha7uSK-tCT7j",
        "outputId": "3e5149ac-4959-4f74-a716-b57791b1f8f4"
      },
      "outputs": [
        {
          "output_type": "stream",
          "name": "stdout",
          "text": [
            "<class 'pandas.core.frame.DataFrame'>\n",
            "Int64Index: 291 entries, 0 to 1\n",
            "Data columns (total 20 columns):\n",
            " #   Column                         Non-Null Count  Dtype \n",
            "---  ------                         --------------  ----- \n",
            " 0   Genome ID                      291 non-null    object\n",
            " 1   adeA                           291 non-null    int64 \n",
            " 2   adeB                           291 non-null    int64 \n",
            " 3   adeC                           291 non-null    int64 \n",
            " 4   adeR                           291 non-null    int64 \n",
            " 5   adeS                           291 non-null    int64 \n",
            " 6   Cluster_Labels                 291 non-null    int64 \n",
            " 7   2                              291 non-null    int64 \n",
            " 8   ampicillin/sulbactam           291 non-null    int64 \n",
            " 9   aztreonam                      291 non-null    int64 \n",
            " 10  carbapenem                     291 non-null    int64 \n",
            " 11  cefepime                       291 non-null    int64 \n",
            " 12  cefotaxime                     291 non-null    int64 \n",
            " 13  ceftriaxone                    291 non-null    int64 \n",
            " 14  colistin                       291 non-null    int64 \n",
            " 15  imipenem                       291 non-null    int64 \n",
            " 16  meropenem                      291 non-null    int64 \n",
            " 17  minocycline                    291 non-null    int64 \n",
            " 18  tobramycin                     291 non-null    int64 \n",
            " 19  trimethoprim/sulfamethoxazole  291 non-null    int64 \n",
            "dtypes: int64(19), object(1)\n",
            "memory usage: 47.7+ KB\n"
          ]
        }
      ],
      "source": [
        "new.info()"
      ]
    },
    {
      "cell_type": "code",
      "source": [
        "print(new)"
      ],
      "metadata": {
        "colab": {
          "base_uri": "https://localhost:8080/"
        },
        "id": "L3tu8npVPYqi",
        "outputId": "8d4dfff7-9955-4afa-b25a-b461615286f4"
      },
      "execution_count": null,
      "outputs": [
        {
          "output_type": "stream",
          "name": "stdout",
          "text": [
            "    Genome ID  adeA  adeB  adeC  adeR  adeS  Cluster_Labels  2  \\\n",
            "0   470.10855     1     1     1     1     1               0  0   \n",
            "1   470.10856     1     1     1     1     1               0  0   \n",
            "2   470.10857     1     1     1     1     1               0  0   \n",
            "3   470.10858     1     1     1     1     1               0  0   \n",
            "4   470.10859     1     1     1     1     1               0  0   \n",
            "..        ...   ...   ...   ...   ...   ...             ... ..   \n",
            "0    470.8415     0     0     0     0     1               2  0   \n",
            "1    470.9342     0     0     0     0     1               2  0   \n",
            "2    470.9346     0     0     0     0     1               2  0   \n",
            "0    470.8428     0     1     1     0     1               3  0   \n",
            "1    470.9347     0     1     1     0     1               3  0   \n",
            "\n",
            "    ampicillin/sulbactam  aztreonam  carbapenem  cefepime  cefotaxime  \\\n",
            "0                      0          0           1         0           0   \n",
            "1                      0          0           2         0           0   \n",
            "2                      0          0           2         0           0   \n",
            "3                      0          0           1         0           0   \n",
            "4                      0          0           2         0           0   \n",
            "..                   ...        ...         ...       ...         ...   \n",
            "0                      0          0           1         0           0   \n",
            "1                      0          2           1         2           2   \n",
            "2                      0          2           1         2           2   \n",
            "0                      0          0           1         0           0   \n",
            "1                      2          2           1         2           2   \n",
            "\n",
            "    ceftriaxone  colistin  imipenem  meropenem  minocycline  tobramycin  \\\n",
            "0             0         0         0          0            0           0   \n",
            "1             0         0         0          0            0           0   \n",
            "2             0         0         0          0            0           0   \n",
            "3             0         0         0          0            0           0   \n",
            "4             0         0         0          0            0           0   \n",
            "..          ...       ...       ...        ...          ...         ...   \n",
            "0             0         0         0          0            0           0   \n",
            "1             2         1         2          2            0           0   \n",
            "2             2         1         2          2            0           0   \n",
            "0             0         0         0          0            0           0   \n",
            "1             2         1         2          2            0           0   \n",
            "\n",
            "    trimethoprim/sulfamethoxazole  \n",
            "0                               0  \n",
            "1                               0  \n",
            "2                               0  \n",
            "3                               0  \n",
            "4                               0  \n",
            "..                            ...  \n",
            "0                               0  \n",
            "1                               2  \n",
            "2                               2  \n",
            "0                               0  \n",
            "1                               2  \n",
            "\n",
            "[291 rows x 20 columns]\n"
          ]
        }
      ]
    }
  ],
  "metadata": {
    "colab": {
      "provenance": [],
      "include_colab_link": true
    },
    "kernelspec": {
      "display_name": "Python 3",
      "name": "python3"
    },
    "language_info": {
      "name": "python"
    }
  },
  "nbformat": 4,
  "nbformat_minor": 0
}